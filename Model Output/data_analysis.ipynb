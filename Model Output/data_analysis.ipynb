{
 "cells": [
  {
   "cell_type": "markdown",
   "metadata": {},
   "source": [
    "# **Ali's Data Analysis**"
   ]
  },
  {
   "cell_type": "markdown",
   "metadata": {},
   "source": [
    "<br>\n",
    "\n",
    "## **Setup**"
   ]
  },
  {
   "cell_type": "code",
   "execution_count": 9,
   "metadata": {},
   "outputs": [],
   "source": [
    "import pandas as pd\n",
    "from matplotlib import pyplot as plt"
   ]
  },
  {
   "cell_type": "code",
   "execution_count": 8,
   "metadata": {},
   "outputs": [
    {
     "data": {
      "text/html": [
       "<div>\n",
       "<style scoped>\n",
       "    .dataframe tbody tr th:only-of-type {\n",
       "        vertical-align: middle;\n",
       "    }\n",
       "\n",
       "    .dataframe tbody tr th {\n",
       "        vertical-align: top;\n",
       "    }\n",
       "\n",
       "    .dataframe thead th {\n",
       "        text-align: right;\n",
       "    }\n",
       "</style>\n",
       "<table border=\"1\" class=\"dataframe\">\n",
       "  <thead>\n",
       "    <tr style=\"text-align: right;\">\n",
       "      <th></th>\n",
       "      <th>who</th>\n",
       "      <th>xcor</th>\n",
       "      <th>ycor</th>\n",
       "      <th>owner-id</th>\n",
       "      <th>implements-WSA</th>\n",
       "      <th>yield</th>\n",
       "      <th>Year</th>\n",
       "      <th>Lead Farmers</th>\n",
       "      <th>Desperation</th>\n",
       "      <th>Jealousy</th>\n",
       "      <th>Grace Period Length</th>\n",
       "      <th>UniqueID</th>\n",
       "    </tr>\n",
       "  </thead>\n",
       "  <tbody>\n",
       "    <tr>\n",
       "      <th>0</th>\n",
       "      <td>1085.0</td>\n",
       "      <td>25.0</td>\n",
       "      <td>17.0</td>\n",
       "      <td>784.0</td>\n",
       "      <td>0.0</td>\n",
       "      <td>50.000000</td>\n",
       "      <td>0</td>\n",
       "      <td>10</td>\n",
       "      <td>0</td>\n",
       "      <td>2</td>\n",
       "      <td>3</td>\n",
       "      <td>2023-11-27 14:45:01.473628</td>\n",
       "    </tr>\n",
       "    <tr>\n",
       "      <th>1</th>\n",
       "      <td>1109.0</td>\n",
       "      <td>25.0</td>\n",
       "      <td>25.0</td>\n",
       "      <td>666.0</td>\n",
       "      <td>0.0</td>\n",
       "      <td>50.000000</td>\n",
       "      <td>0</td>\n",
       "      <td>10</td>\n",
       "      <td>0</td>\n",
       "      <td>2</td>\n",
       "      <td>3</td>\n",
       "      <td>2023-11-27 14:45:01.473628</td>\n",
       "    </tr>\n",
       "    <tr>\n",
       "      <th>2</th>\n",
       "      <td>1124.0</td>\n",
       "      <td>25.0</td>\n",
       "      <td>-21.0</td>\n",
       "      <td>422.0</td>\n",
       "      <td>0.0</td>\n",
       "      <td>50.000000</td>\n",
       "      <td>0</td>\n",
       "      <td>10</td>\n",
       "      <td>0</td>\n",
       "      <td>2</td>\n",
       "      <td>3</td>\n",
       "      <td>2023-11-27 14:45:01.473628</td>\n",
       "    </tr>\n",
       "    <tr>\n",
       "      <th>3</th>\n",
       "      <td>1260.0</td>\n",
       "      <td>25.0</td>\n",
       "      <td>9.0</td>\n",
       "      <td>335.0</td>\n",
       "      <td>0.0</td>\n",
       "      <td>50.000000</td>\n",
       "      <td>0</td>\n",
       "      <td>10</td>\n",
       "      <td>0</td>\n",
       "      <td>2</td>\n",
       "      <td>3</td>\n",
       "      <td>2023-11-27 14:45:01.473628</td>\n",
       "    </tr>\n",
       "    <tr>\n",
       "      <th>4</th>\n",
       "      <td>1280.0</td>\n",
       "      <td>25.0</td>\n",
       "      <td>5.0</td>\n",
       "      <td>216.0</td>\n",
       "      <td>0.0</td>\n",
       "      <td>50.000000</td>\n",
       "      <td>0</td>\n",
       "      <td>10</td>\n",
       "      <td>0</td>\n",
       "      <td>2</td>\n",
       "      <td>3</td>\n",
       "      <td>2023-11-27 14:45:01.473628</td>\n",
       "    </tr>\n",
       "    <tr>\n",
       "      <th>...</th>\n",
       "      <td>...</td>\n",
       "      <td>...</td>\n",
       "      <td>...</td>\n",
       "      <td>...</td>\n",
       "      <td>...</td>\n",
       "      <td>...</td>\n",
       "      <td>...</td>\n",
       "      <td>...</td>\n",
       "      <td>...</td>\n",
       "      <td>...</td>\n",
       "      <td>...</td>\n",
       "      <td>...</td>\n",
       "    </tr>\n",
       "    <tr>\n",
       "      <th>28606</th>\n",
       "      <td>3074.0</td>\n",
       "      <td>-25.0</td>\n",
       "      <td>6.0</td>\n",
       "      <td>640.0</td>\n",
       "      <td>1.0</td>\n",
       "      <td>65.579194</td>\n",
       "      <td>10</td>\n",
       "      <td>10</td>\n",
       "      <td>0</td>\n",
       "      <td>2</td>\n",
       "      <td>3</td>\n",
       "      <td>2023-11-27 14:45:01.473628</td>\n",
       "    </tr>\n",
       "    <tr>\n",
       "      <th>28607</th>\n",
       "      <td>3107.0</td>\n",
       "      <td>-25.0</td>\n",
       "      <td>12.0</td>\n",
       "      <td>762.0</td>\n",
       "      <td>0.0</td>\n",
       "      <td>61.173142</td>\n",
       "      <td>10</td>\n",
       "      <td>10</td>\n",
       "      <td>0</td>\n",
       "      <td>2</td>\n",
       "      <td>3</td>\n",
       "      <td>2023-11-27 14:45:01.473628</td>\n",
       "    </tr>\n",
       "    <tr>\n",
       "      <th>28608</th>\n",
       "      <td>3153.0</td>\n",
       "      <td>-25.0</td>\n",
       "      <td>11.0</td>\n",
       "      <td>212.0</td>\n",
       "      <td>0.0</td>\n",
       "      <td>61.158390</td>\n",
       "      <td>10</td>\n",
       "      <td>10</td>\n",
       "      <td>0</td>\n",
       "      <td>2</td>\n",
       "      <td>3</td>\n",
       "      <td>2023-11-27 14:45:01.473628</td>\n",
       "    </tr>\n",
       "    <tr>\n",
       "      <th>28609</th>\n",
       "      <td>3302.0</td>\n",
       "      <td>-25.0</td>\n",
       "      <td>14.0</td>\n",
       "      <td>554.0</td>\n",
       "      <td>0.0</td>\n",
       "      <td>61.202551</td>\n",
       "      <td>10</td>\n",
       "      <td>10</td>\n",
       "      <td>0</td>\n",
       "      <td>2</td>\n",
       "      <td>3</td>\n",
       "      <td>2023-11-27 14:45:01.473628</td>\n",
       "    </tr>\n",
       "    <tr>\n",
       "      <th>28610</th>\n",
       "      <td>3325.0</td>\n",
       "      <td>-25.0</td>\n",
       "      <td>-14.0</td>\n",
       "      <td>792.0</td>\n",
       "      <td>0.0</td>\n",
       "      <td>60.779228</td>\n",
       "      <td>10</td>\n",
       "      <td>10</td>\n",
       "      <td>0</td>\n",
       "      <td>2</td>\n",
       "      <td>3</td>\n",
       "      <td>2023-11-27 14:45:01.473628</td>\n",
       "    </tr>\n",
       "  </tbody>\n",
       "</table>\n",
       "<p>28611 rows × 12 columns</p>\n",
       "</div>"
      ],
      "text/plain": [
       "          who  xcor  ycor  owner-id  implements-WSA      yield  Year  \\\n",
       "0      1085.0  25.0  17.0     784.0             0.0  50.000000     0   \n",
       "1      1109.0  25.0  25.0     666.0             0.0  50.000000     0   \n",
       "2      1124.0  25.0 -21.0     422.0             0.0  50.000000     0   \n",
       "3      1260.0  25.0   9.0     335.0             0.0  50.000000     0   \n",
       "4      1280.0  25.0   5.0     216.0             0.0  50.000000     0   \n",
       "...       ...   ...   ...       ...             ...        ...   ...   \n",
       "28606  3074.0 -25.0   6.0     640.0             1.0  65.579194    10   \n",
       "28607  3107.0 -25.0  12.0     762.0             0.0  61.173142    10   \n",
       "28608  3153.0 -25.0  11.0     212.0             0.0  61.158390    10   \n",
       "28609  3302.0 -25.0  14.0     554.0             0.0  61.202551    10   \n",
       "28610  3325.0 -25.0 -14.0     792.0             0.0  60.779228    10   \n",
       "\n",
       "       Lead Farmers  Desperation  Jealousy  Grace Period Length  \\\n",
       "0                10            0         2                    3   \n",
       "1                10            0         2                    3   \n",
       "2                10            0         2                    3   \n",
       "3                10            0         2                    3   \n",
       "4                10            0         2                    3   \n",
       "...             ...          ...       ...                  ...   \n",
       "28606            10            0         2                    3   \n",
       "28607            10            0         2                    3   \n",
       "28608            10            0         2                    3   \n",
       "28609            10            0         2                    3   \n",
       "28610            10            0         2                    3   \n",
       "\n",
       "                         UniqueID  \n",
       "0      2023-11-27 14:45:01.473628  \n",
       "1      2023-11-27 14:45:01.473628  \n",
       "2      2023-11-27 14:45:01.473628  \n",
       "3      2023-11-27 14:45:01.473628  \n",
       "4      2023-11-27 14:45:01.473628  \n",
       "...                           ...  \n",
       "28606  2023-11-27 14:45:01.473628  \n",
       "28607  2023-11-27 14:45:01.473628  \n",
       "28608  2023-11-27 14:45:01.473628  \n",
       "28609  2023-11-27 14:45:01.473628  \n",
       "28610  2023-11-27 14:45:01.473628  \n",
       "\n",
       "[28611 rows x 12 columns]"
      ]
     },
     "metadata": {},
     "output_type": "display_data"
    },
    {
     "data": {
      "text/html": [
       "<div>\n",
       "<style scoped>\n",
       "    .dataframe tbody tr th:only-of-type {\n",
       "        vertical-align: middle;\n",
       "    }\n",
       "\n",
       "    .dataframe tbody tr th {\n",
       "        vertical-align: top;\n",
       "    }\n",
       "\n",
       "    .dataframe thead th {\n",
       "        text-align: right;\n",
       "    }\n",
       "</style>\n",
       "<table border=\"1\" class=\"dataframe\">\n",
       "  <thead>\n",
       "    <tr style=\"text-align: right;\">\n",
       "      <th></th>\n",
       "      <th>who</th>\n",
       "      <th>xcor</th>\n",
       "      <th>ycor</th>\n",
       "      <th>owner-id</th>\n",
       "      <th>implements-WSA</th>\n",
       "      <th>yield</th>\n",
       "      <th>Year</th>\n",
       "      <th>Lead Farmers</th>\n",
       "      <th>Desperation</th>\n",
       "      <th>Jealousy</th>\n",
       "      <th>Grace Period Length</th>\n",
       "    </tr>\n",
       "  </thead>\n",
       "  <tbody>\n",
       "    <tr>\n",
       "      <th>count</th>\n",
       "      <td>28611.000000</td>\n",
       "      <td>28611.000000</td>\n",
       "      <td>28611.000000</td>\n",
       "      <td>28611.000000</td>\n",
       "      <td>28611.000000</td>\n",
       "      <td>28611.000000</td>\n",
       "      <td>28611.000000</td>\n",
       "      <td>28611.0</td>\n",
       "      <td>28611.0</td>\n",
       "      <td>28611.0</td>\n",
       "      <td>28611.0</td>\n",
       "    </tr>\n",
       "    <tr>\n",
       "      <th>mean</th>\n",
       "      <td>2100.000000</td>\n",
       "      <td>0.000000</td>\n",
       "      <td>0.000000</td>\n",
       "      <td>398.762015</td>\n",
       "      <td>0.144944</td>\n",
       "      <td>68.437473</td>\n",
       "      <td>5.000000</td>\n",
       "      <td>10.0</td>\n",
       "      <td>0.0</td>\n",
       "      <td>2.0</td>\n",
       "      <td>3.0</td>\n",
       "    </tr>\n",
       "    <tr>\n",
       "      <th>std</th>\n",
       "      <td>750.857092</td>\n",
       "      <td>14.719859</td>\n",
       "      <td>14.719859</td>\n",
       "      <td>231.782067</td>\n",
       "      <td>0.352051</td>\n",
       "      <td>8.780643</td>\n",
       "      <td>3.162333</td>\n",
       "      <td>0.0</td>\n",
       "      <td>0.0</td>\n",
       "      <td>0.0</td>\n",
       "      <td>0.0</td>\n",
       "    </tr>\n",
       "    <tr>\n",
       "      <th>min</th>\n",
       "      <td>800.000000</td>\n",
       "      <td>-25.000000</td>\n",
       "      <td>-25.000000</td>\n",
       "      <td>0.000000</td>\n",
       "      <td>0.000000</td>\n",
       "      <td>50.000000</td>\n",
       "      <td>0.000000</td>\n",
       "      <td>10.0</td>\n",
       "      <td>0.0</td>\n",
       "      <td>2.0</td>\n",
       "      <td>3.0</td>\n",
       "    </tr>\n",
       "    <tr>\n",
       "      <th>25%</th>\n",
       "      <td>1450.000000</td>\n",
       "      <td>-13.000000</td>\n",
       "      <td>-13.000000</td>\n",
       "      <td>197.000000</td>\n",
       "      <td>0.000000</td>\n",
       "      <td>62.776183</td>\n",
       "      <td>2.000000</td>\n",
       "      <td>10.0</td>\n",
       "      <td>0.0</td>\n",
       "      <td>2.0</td>\n",
       "      <td>3.0</td>\n",
       "    </tr>\n",
       "    <tr>\n",
       "      <th>50%</th>\n",
       "      <td>2100.000000</td>\n",
       "      <td>0.000000</td>\n",
       "      <td>0.000000</td>\n",
       "      <td>397.000000</td>\n",
       "      <td>0.000000</td>\n",
       "      <td>68.104985</td>\n",
       "      <td>5.000000</td>\n",
       "      <td>10.0</td>\n",
       "      <td>0.0</td>\n",
       "      <td>2.0</td>\n",
       "      <td>3.0</td>\n",
       "    </tr>\n",
       "    <tr>\n",
       "      <th>75%</th>\n",
       "      <td>2750.000000</td>\n",
       "      <td>13.000000</td>\n",
       "      <td>13.000000</td>\n",
       "      <td>598.000000</td>\n",
       "      <td>0.000000</td>\n",
       "      <td>74.555681</td>\n",
       "      <td>8.000000</td>\n",
       "      <td>10.0</td>\n",
       "      <td>0.0</td>\n",
       "      <td>2.0</td>\n",
       "      <td>3.0</td>\n",
       "    </tr>\n",
       "    <tr>\n",
       "      <th>max</th>\n",
       "      <td>3400.000000</td>\n",
       "      <td>25.000000</td>\n",
       "      <td>25.000000</td>\n",
       "      <td>799.000000</td>\n",
       "      <td>1.000000</td>\n",
       "      <td>88.576440</td>\n",
       "      <td>10.000000</td>\n",
       "      <td>10.0</td>\n",
       "      <td>0.0</td>\n",
       "      <td>2.0</td>\n",
       "      <td>3.0</td>\n",
       "    </tr>\n",
       "  </tbody>\n",
       "</table>\n",
       "</div>"
      ],
      "text/plain": [
       "                who          xcor          ycor      owner-id  implements-WSA  \\\n",
       "count  28611.000000  28611.000000  28611.000000  28611.000000    28611.000000   \n",
       "mean    2100.000000      0.000000      0.000000    398.762015        0.144944   \n",
       "std      750.857092     14.719859     14.719859    231.782067        0.352051   \n",
       "min      800.000000    -25.000000    -25.000000      0.000000        0.000000   \n",
       "25%     1450.000000    -13.000000    -13.000000    197.000000        0.000000   \n",
       "50%     2100.000000      0.000000      0.000000    397.000000        0.000000   \n",
       "75%     2750.000000     13.000000     13.000000    598.000000        0.000000   \n",
       "max     3400.000000     25.000000     25.000000    799.000000        1.000000   \n",
       "\n",
       "              yield          Year  Lead Farmers  Desperation  Jealousy  \\\n",
       "count  28611.000000  28611.000000       28611.0      28611.0   28611.0   \n",
       "mean      68.437473      5.000000          10.0          0.0       2.0   \n",
       "std        8.780643      3.162333           0.0          0.0       0.0   \n",
       "min       50.000000      0.000000          10.0          0.0       2.0   \n",
       "25%       62.776183      2.000000          10.0          0.0       2.0   \n",
       "50%       68.104985      5.000000          10.0          0.0       2.0   \n",
       "75%       74.555681      8.000000          10.0          0.0       2.0   \n",
       "max       88.576440     10.000000          10.0          0.0       2.0   \n",
       "\n",
       "       Grace Period Length  \n",
       "count              28611.0  \n",
       "mean                   3.0  \n",
       "std                    0.0  \n",
       "min                    3.0  \n",
       "25%                    3.0  \n",
       "50%                    3.0  \n",
       "75%                    3.0  \n",
       "max                    3.0  "
      ]
     },
     "execution_count": 8,
     "metadata": {},
     "output_type": "execute_result"
    }
   ],
   "source": [
    "data = pd.read_csv(\"TestDataRecording\")\n",
    "display(data)\n",
    "data.describe()"
   ]
  },
  {
   "cell_type": "markdown",
   "metadata": {},
   "source": [
    "Who - field id\n",
    "\n",
    "xcor/ycor - field position\n",
    "\n",
    "owner-id - owner farmer id\n",
    "\n",
    "implements-WSA - field has WSA this period\n",
    "\n",
    "yield - field's yield this period\n",
    "\n",
    "year - this period\n",
    "\n",
    "lead farmers - constant\n",
    "\n",
    "desperation - constant\n",
    "\n",
    "jealousy - constant\n",
    "\n",
    "grace period - constant"
   ]
  },
  {
   "cell_type": "markdown",
   "metadata": {},
   "source": [
    "<br>\n",
    "\n",
    "## **First Foray**"
   ]
  },
  {
   "cell_type": "code",
   "execution_count": 245,
   "metadata": {},
   "outputs": [],
   "source": [
    "MODEL_RUNS = len(data[\"UniqueID\"].unique())"
   ]
  },
  {
   "cell_type": "markdown",
   "metadata": {},
   "source": [
    "### **_WSA Takeup Over Time_**"
   ]
  },
  {
   "cell_type": "code",
   "execution_count": 246,
   "metadata": {},
   "outputs": [],
   "source": [
    "fieldTakeByYr = data.groupby(\"Year\")[\"implements-WSA\"].mean()"
   ]
  },
  {
   "cell_type": "code",
   "execution_count": 247,
   "metadata": {},
   "outputs": [],
   "source": [
    "agentTakeByYr = data.groupby([\"Year\", \"owner-id\"])[\"implements-WSA\"].mean()\n",
    "agentTakeByYr = agentTakeByYr.groupby(\"Year\").mean()"
   ]
  },
  {
   "cell_type": "code",
   "execution_count": 58,
   "metadata": {},
   "outputs": [
    {
     "data": {
      "text/plain": [
       "<matplotlib.legend.Legend at 0x7fddb4f95f00>"
      ]
     },
     "execution_count": 58,
     "metadata": {},
     "output_type": "execute_result"
    },
    {
     "data": {
      "image/png": "[encoded data removed]",
      "text/plain": [
       "<Figure size 432x288 with 1 Axes>"
      ]
     },
     "metadata": {
      "needs_background": "light"
     },
     "output_type": "display_data"
    }
   ],
   "source": [
    "ax = plt.subplot()\n",
    "ax.set(title=\"WSA Takeup\", xlabel=\"Year\", ylabel=\"% Takeup\")\n",
    "ax.plot(fieldTakeByYr, label = \"Fields\")\n",
    "ax.plot(agentTakeByYr, label = \"Farmers\")\n",
    "ax.legend()"
   ]
  },
  {
   "cell_type": "markdown",
   "metadata": {},
   "source": [
    "### **_Final Yields by Practice_**"
   ]
  },
  {
   "cell_type": "code",
   "execution_count": 125,
   "metadata": {},
   "outputs": [],
   "source": [
    "endYieldByWsa = data.where(data[\"Year\"] == data[\"Year\"].max())\n",
    "endYieldByWsa = endYieldByWsa.groupby(\"implements-WSA\")[\"yield\"].mean()"
   ]
  },
  {
   "cell_type": "code",
   "execution_count": 230,
   "metadata": {},
   "outputs": [
    {
     "data": {
      "text/plain": [
       "<BarContainer object of 2 artists>"
      ]
     },
     "execution_count": 230,
     "metadata": {},
     "output_type": "execute_result"
    },
    {
     "data": {
      "image/png": "[encoded data removed]",
      "text/plain": [
       "<Figure size 432x288 with 1 Axes>"
      ]
     },
     "metadata": {
      "needs_background": "light"
     },
     "output_type": "display_data"
    }
   ],
   "source": [
    "ax = plt.subplot()\n",
    "ax.set(title=\"Final Yields By Practice\", ylabel=\"Average Yield\")\n",
    "ax.bar([\"Traditional\", \"WSA\"], endYieldByWsa.array)"
   ]
  },
  {
   "cell_type": "markdown",
   "metadata": {},
   "source": [
    "### **_Yield by Practice over Time_**"
   ]
  },
  {
   "cell_type": "code",
   "execution_count": 221,
   "metadata": {},
   "outputs": [],
   "source": [
    "yieldByWsaYr = data.groupby([\"Year\", \"implements-WSA\"]).mean()[\"yield\"]\n",
    "yieldByWsaYr_group = yieldByWsaYr.groupby(\"implements-WSA\")"
   ]
  },
  {
   "cell_type": "code",
   "execution_count": 222,
   "metadata": {},
   "outputs": [
    {
     "data": {
      "text/plain": [
       "<matplotlib.legend.Legend at 0x7fddb4b4ab90>"
      ]
     },
     "execution_count": 222,
     "metadata": {},
     "output_type": "execute_result"
    },
    {
     "data": {
      "image/png": "[encoded data removed]",
      "text/plain": [
       "<Figure size 432x288 with 1 Axes>"
      ]
     },
     "metadata": {
      "needs_background": "light"
     },
     "output_type": "display_data"
    }
   ],
   "source": [
    "ax = plt.subplot()\n",
    "ax.set(title=\"Yield by Practice over Time\", xlabel=\"Year\", ylabel=\"Yield\")\n",
    "for implementsWSA, series in yieldByWsaYr_group:\n",
    "    label = \"WSA\" if implementsWSA else \"Traditional\"\n",
    "    ax.plot(series.array, label=label)\n",
    "ax.legend()"
   ]
  },
  {
   "cell_type": "markdown",
   "metadata": {},
   "source": [
    "### **_Fields per Farmer_**"
   ]
  },
  {
   "cell_type": "code",
   "execution_count": 271,
   "metadata": {},
   "outputs": [],
   "source": [
    "fieldsByOwner = data.where(data[\"Year\"] == 0)\n",
    "fieldsByOwner = fieldsByOwner.groupby([\"UniqueID\", \"owner-id\"])[\"who\"].count()\n",
    "fieldsPerFarmer = fieldsByOwner.value_counts().sort_index() / MODEL_RUNS"
   ]
  },
  {
   "cell_type": "code",
   "execution_count": 272,
   "metadata": {},
   "outputs": [
    {
     "data": {
      "text/plain": [
       "[Text(0.5, 1.0, 'Distribution of Fields Per Farmer'),\n",
       " Text(0.5, 0, 'Number of fields'),\n",
       " Text(0, 0.5, 'Number of farmers per model run')]"
      ]
     },
     "execution_count": 272,
     "metadata": {},
     "output_type": "execute_result"
    },
    {
     "data": {
      "image/png": "[encoded data removed]",
      "text/plain": [
       "<Figure size 432x288 with 1 Axes>"
      ]
     },
     "metadata": {
      "needs_background": "light"
     },
     "output_type": "display_data"
    }
   ],
   "source": [
    "ax = plt.subplot()\n",
    "ax.bar(fieldsPerFarmer.index, fieldsPerFarmer.array)\n",
    "ax.set(title=\"Distribution of Fields Per Farmer\", xlabel=\"Number of fields\", ylabel=\"Number of farmers per model run\")"
   ]
  },
  {
   "cell_type": "markdown",
   "metadata": {},
   "source": [
    "### **_Number of Fields by Practice Choice_**"
   ]
  },
  {
   "cell_type": "code",
   "execution_count": 281,
   "metadata": {},
   "outputs": [
    {
     "data": {
      "text/plain": [
       "{'2023-11-27 14:45:01.473628': [0, 1, 2, 3, 4, 5, 6, 7, 8, 9, 10, 11, 12, 13, 14, 15, 16, 17, 18, 19, 20, 21, 22, 23, 24, 25, 26, 27, 28, 29, 30, 31, 32, 33, 34, 35, 36, 37, 38, 39, 40, 41, 42, 43, 44, 45, 46, 47, 48, 49, 50, 51, 52, 53, 54, 55, 56, 57, 58, 59, 60, 61, 62, 63, 64, 65, 66, 67, 68, 69, 70, 71, 72, 73, 74, 75, 76, 77, 78, 79, 80, 81, 82, 83, 84, 85, 86, 87, 88, 89, 90, 91, 92, 93, 94, 95, 96, 97, 98, 99, ...]}"
      ]
     },
     "execution_count": 281,
     "metadata": {},
     "output_type": "execute_result"
    }
   ],
   "source": [
    "data.groupby(\"UniqueID\")"
   ]
  }
 ],
 "metadata": {
  "kernelspec": {
   "display_name": "Python 3",
   "language": "python",
   "name": "python3"
  },
  "language_info": {
   "codemirror_mode": {
    "name": "ipython",
    "version": 3
   },
   "file_extension": ".py",
   "mimetype": "text/x-python",
   "name": "python",
   "nbconvert_exporter": "python",
   "pygments_lexer": "ipython3",
   "version": "3.10.12"
  },
  "orig_nbformat": 4
 },
 "nbformat": 4,
 "nbformat_minor": 2
}
