{
 "cells": [
  {
   "cell_type": "code",
   "execution_count": 1,
   "metadata": {},
   "outputs": [],
   "source": [
    "import pandas as pd\n",
    "from matplotlib import pyplot as plt"
   ]
  },
  {
   "cell_type": "code",
   "execution_count": 119,
   "metadata": {},
   "outputs": [
    {
     "data": {
      "text/html": [
       "<div>\n",
       "<style scoped>\n",
       "    .dataframe tbody tr th:only-of-type {\n",
       "        vertical-align: middle;\n",
       "    }\n",
       "\n",
       "    .dataframe tbody tr th {\n",
       "        vertical-align: top;\n",
       "    }\n",
       "\n",
       "    .dataframe thead th {\n",
       "        text-align: right;\n",
       "    }\n",
       "</style>\n",
       "<table border=\"1\" class=\"dataframe\">\n",
       "  <thead>\n",
       "    <tr style=\"text-align: right;\">\n",
       "      <th></th>\n",
       "      <th>who</th>\n",
       "      <th>xcor</th>\n",
       "      <th>ycor</th>\n",
       "      <th>owner-id</th>\n",
       "      <th>implements-WSA</th>\n",
       "      <th>yield</th>\n",
       "      <th>Year</th>\n",
       "      <th>Lead Farmers</th>\n",
       "      <th>Desperation</th>\n",
       "      <th>Jealousy</th>\n",
       "      <th>Grace Period Length</th>\n",
       "      <th>UniqueID</th>\n",
       "    </tr>\n",
       "  </thead>\n",
       "  <tbody>\n",
       "    <tr>\n",
       "      <th>0</th>\n",
       "      <td>1085.0</td>\n",
       "      <td>25.0</td>\n",
       "      <td>17.0</td>\n",
       "      <td>784.0</td>\n",
       "      <td>0.0</td>\n",
       "      <td>50.000000</td>\n",
       "      <td>0</td>\n",
       "      <td>10</td>\n",
       "      <td>0</td>\n",
       "      <td>2</td>\n",
       "      <td>3</td>\n",
       "      <td>2023-11-27 14:45:01.473628</td>\n",
       "    </tr>\n",
       "    <tr>\n",
       "      <th>1</th>\n",
       "      <td>1109.0</td>\n",
       "      <td>25.0</td>\n",
       "      <td>25.0</td>\n",
       "      <td>666.0</td>\n",
       "      <td>0.0</td>\n",
       "      <td>50.000000</td>\n",
       "      <td>0</td>\n",
       "      <td>10</td>\n",
       "      <td>0</td>\n",
       "      <td>2</td>\n",
       "      <td>3</td>\n",
       "      <td>2023-11-27 14:45:01.473628</td>\n",
       "    </tr>\n",
       "    <tr>\n",
       "      <th>2</th>\n",
       "      <td>1124.0</td>\n",
       "      <td>25.0</td>\n",
       "      <td>-21.0</td>\n",
       "      <td>422.0</td>\n",
       "      <td>0.0</td>\n",
       "      <td>50.000000</td>\n",
       "      <td>0</td>\n",
       "      <td>10</td>\n",
       "      <td>0</td>\n",
       "      <td>2</td>\n",
       "      <td>3</td>\n",
       "      <td>2023-11-27 14:45:01.473628</td>\n",
       "    </tr>\n",
       "    <tr>\n",
       "      <th>3</th>\n",
       "      <td>1260.0</td>\n",
       "      <td>25.0</td>\n",
       "      <td>9.0</td>\n",
       "      <td>335.0</td>\n",
       "      <td>0.0</td>\n",
       "      <td>50.000000</td>\n",
       "      <td>0</td>\n",
       "      <td>10</td>\n",
       "      <td>0</td>\n",
       "      <td>2</td>\n",
       "      <td>3</td>\n",
       "      <td>2023-11-27 14:45:01.473628</td>\n",
       "    </tr>\n",
       "    <tr>\n",
       "      <th>4</th>\n",
       "      <td>1280.0</td>\n",
       "      <td>25.0</td>\n",
       "      <td>5.0</td>\n",
       "      <td>216.0</td>\n",
       "      <td>0.0</td>\n",
       "      <td>50.000000</td>\n",
       "      <td>0</td>\n",
       "      <td>10</td>\n",
       "      <td>0</td>\n",
       "      <td>2</td>\n",
       "      <td>3</td>\n",
       "      <td>2023-11-27 14:45:01.473628</td>\n",
       "    </tr>\n",
       "    <tr>\n",
       "      <th>...</th>\n",
       "      <td>...</td>\n",
       "      <td>...</td>\n",
       "      <td>...</td>\n",
       "      <td>...</td>\n",
       "      <td>...</td>\n",
       "      <td>...</td>\n",
       "      <td>...</td>\n",
       "      <td>...</td>\n",
       "      <td>...</td>\n",
       "      <td>...</td>\n",
       "      <td>...</td>\n",
       "      <td>...</td>\n",
       "    </tr>\n",
       "    <tr>\n",
       "      <th>28606</th>\n",
       "      <td>3074.0</td>\n",
       "      <td>-25.0</td>\n",
       "      <td>6.0</td>\n",
       "      <td>640.0</td>\n",
       "      <td>1.0</td>\n",
       "      <td>65.579194</td>\n",
       "      <td>10</td>\n",
       "      <td>10</td>\n",
       "      <td>0</td>\n",
       "      <td>2</td>\n",
       "      <td>3</td>\n",
       "      <td>2023-11-27 14:45:01.473628</td>\n",
       "    </tr>\n",
       "    <tr>\n",
       "      <th>28607</th>\n",
       "      <td>3107.0</td>\n",
       "      <td>-25.0</td>\n",
       "      <td>12.0</td>\n",
       "      <td>762.0</td>\n",
       "      <td>0.0</td>\n",
       "      <td>61.173142</td>\n",
       "      <td>10</td>\n",
       "      <td>10</td>\n",
       "      <td>0</td>\n",
       "      <td>2</td>\n",
       "      <td>3</td>\n",
       "      <td>2023-11-27 14:45:01.473628</td>\n",
       "    </tr>\n",
       "    <tr>\n",
       "      <th>28608</th>\n",
       "      <td>3153.0</td>\n",
       "      <td>-25.0</td>\n",
       "      <td>11.0</td>\n",
       "      <td>212.0</td>\n",
       "      <td>0.0</td>\n",
       "      <td>61.158390</td>\n",
       "      <td>10</td>\n",
       "      <td>10</td>\n",
       "      <td>0</td>\n",
       "      <td>2</td>\n",
       "      <td>3</td>\n",
       "      <td>2023-11-27 14:45:01.473628</td>\n",
       "    </tr>\n",
       "    <tr>\n",
       "      <th>28609</th>\n",
       "      <td>3302.0</td>\n",
       "      <td>-25.0</td>\n",
       "      <td>14.0</td>\n",
       "      <td>554.0</td>\n",
       "      <td>0.0</td>\n",
       "      <td>61.202551</td>\n",
       "      <td>10</td>\n",
       "      <td>10</td>\n",
       "      <td>0</td>\n",
       "      <td>2</td>\n",
       "      <td>3</td>\n",
       "      <td>2023-11-27 14:45:01.473628</td>\n",
       "    </tr>\n",
       "    <tr>\n",
       "      <th>28610</th>\n",
       "      <td>3325.0</td>\n",
       "      <td>-25.0</td>\n",
       "      <td>-14.0</td>\n",
       "      <td>792.0</td>\n",
       "      <td>0.0</td>\n",
       "      <td>60.779228</td>\n",
       "      <td>10</td>\n",
       "      <td>10</td>\n",
       "      <td>0</td>\n",
       "      <td>2</td>\n",
       "      <td>3</td>\n",
       "      <td>2023-11-27 14:45:01.473628</td>\n",
       "    </tr>\n",
       "  </tbody>\n",
       "</table>\n",
       "<p>28611 rows × 12 columns</p>\n",
       "</div>"
      ],
      "text/plain": [
       "          who  xcor  ycor  owner-id  implements-WSA      yield  Year  \\\n",
       "0      1085.0  25.0  17.0     784.0             0.0  50.000000     0   \n",
       "1      1109.0  25.0  25.0     666.0             0.0  50.000000     0   \n",
       "2      1124.0  25.0 -21.0     422.0             0.0  50.000000     0   \n",
       "3      1260.0  25.0   9.0     335.0             0.0  50.000000     0   \n",
       "4      1280.0  25.0   5.0     216.0             0.0  50.000000     0   \n",
       "...       ...   ...   ...       ...             ...        ...   ...   \n",
       "28606  3074.0 -25.0   6.0     640.0             1.0  65.579194    10   \n",
       "28607  3107.0 -25.0  12.0     762.0             0.0  61.173142    10   \n",
       "28608  3153.0 -25.0  11.0     212.0             0.0  61.158390    10   \n",
       "28609  3302.0 -25.0  14.0     554.0             0.0  61.202551    10   \n",
       "28610  3325.0 -25.0 -14.0     792.0             0.0  60.779228    10   \n",
       "\n",
       "       Lead Farmers  Desperation  Jealousy  Grace Period Length  \\\n",
       "0                10            0         2                    3   \n",
       "1                10            0         2                    3   \n",
       "2                10            0         2                    3   \n",
       "3                10            0         2                    3   \n",
       "4                10            0         2                    3   \n",
       "...             ...          ...       ...                  ...   \n",
       "28606            10            0         2                    3   \n",
       "28607            10            0         2                    3   \n",
       "28608            10            0         2                    3   \n",
       "28609            10            0         2                    3   \n",
       "28610            10            0         2                    3   \n",
       "\n",
       "                         UniqueID  \n",
       "0      2023-11-27 14:45:01.473628  \n",
       "1      2023-11-27 14:45:01.473628  \n",
       "2      2023-11-27 14:45:01.473628  \n",
       "3      2023-11-27 14:45:01.473628  \n",
       "4      2023-11-27 14:45:01.473628  \n",
       "...                           ...  \n",
       "28606  2023-11-27 14:45:01.473628  \n",
       "28607  2023-11-27 14:45:01.473628  \n",
       "28608  2023-11-27 14:45:01.473628  \n",
       "28609  2023-11-27 14:45:01.473628  \n",
       "28610  2023-11-27 14:45:01.473628  \n",
       "\n",
       "[28611 rows x 12 columns]"
      ]
     },
     "execution_count": 119,
     "metadata": {},
     "output_type": "execute_result"
    }
   ],
   "source": [
    "df = pd.read_csv('TestDataRecording')\n",
    "df"
   ]
  },
  {
   "cell_type": "code",
   "execution_count": 43,
   "metadata": {},
   "outputs": [
    {
     "data": {
      "text/plain": [
       "Year  implements-WSA\n",
       "0     0.0               50.000000\n",
       "      1.0               50.000000\n",
       "1     0.0               77.633603\n",
       "      1.0               77.030148\n",
       "2     0.0               74.667908\n",
       "      1.0               75.422869\n",
       "3     0.0               60.423750\n",
       "      1.0               60.886498\n",
       "4     0.0               83.336495\n",
       "      1.0               83.805728\n",
       "5     0.0               66.904218\n",
       "      1.0               68.542777\n",
       "6     0.0               71.721559\n",
       "      1.0               73.334131\n",
       "7     0.0               64.313389\n",
       "      1.0               66.309079\n",
       "8     0.0               67.906658\n",
       "      1.0               69.537799\n",
       "9     0.0               72.243854\n",
       "      1.0               73.577929\n",
       "10    0.0               60.954030\n",
       "      1.0               63.416335\n",
       "Name: yield, dtype: float64"
      ]
     },
     "execution_count": 43,
     "metadata": {},
     "output_type": "execute_result"
    }
   ],
   "source": [
    "wsa_group = df.groupby(['Year', 'implements-WSA'])['yield'].mean()\n",
    "wsa_group"
   ]
  },
  {
   "cell_type": "code",
   "execution_count": 44,
   "metadata": {},
   "outputs": [
    {
     "data": {
      "text/plain": [
       "22"
      ]
     },
     "execution_count": 44,
     "metadata": {},
     "output_type": "execute_result"
    }
   ],
   "source": [
    "len(wsa_group)"
   ]
  },
  {
   "cell_type": "code",
   "execution_count": 45,
   "metadata": {},
   "outputs": [
    {
     "data": {
      "text/plain": [
       "<pandas.core.groupby.generic.SeriesGroupBy object at 0x7f2771940c10>"
      ]
     },
     "execution_count": 45,
     "metadata": {},
     "output_type": "execute_result"
    }
   ],
   "source": [
    "wsa_yr_group = wsa_group.groupby('implements-WSA')\n",
    "wsa_yr_group"
   ]
  },
  {
   "cell_type": "code",
   "execution_count": 22,
   "metadata": {},
   "outputs": [
    {
     "name": "stdout",
     "output_type": "stream",
     "text": [
      "0.0 Year  implements-WSA\n",
      "0     0.0               50.000000\n",
      "1     0.0               77.633603\n",
      "2     0.0               74.667908\n",
      "3     0.0               60.423750\n",
      "4     0.0               83.336495\n",
      "5     0.0               66.904218\n",
      "6     0.0               71.721559\n",
      "7     0.0               64.313389\n",
      "8     0.0               67.906658\n",
      "9     0.0               72.243854\n",
      "10    0.0               60.954030\n",
      "Name: yield, dtype: float64\n",
      "1.0 Year  implements-WSA\n",
      "0     1.0               50.000000\n",
      "1     1.0               77.030148\n",
      "2     1.0               75.422869\n",
      "3     1.0               60.886498\n",
      "4     1.0               83.805728\n",
      "5     1.0               68.542777\n",
      "6     1.0               73.334131\n",
      "7     1.0               66.309079\n",
      "8     1.0               69.537799\n",
      "9     1.0               73.577929\n",
      "10    1.0               63.416335\n",
      "Name: yield, dtype: float64\n"
     ]
    }
   ],
   "source": [
    "for implementsWSA, yld in df_test2:\n",
    "    print(implementsWSA, yld)"
   ]
  },
  {
   "cell_type": "code",
   "execution_count": 46,
   "metadata": {},
   "outputs": [
    {
     "data": {
      "text/plain": [
       "Year  implements-WSA\n",
       "0     0.0               50.000000\n",
       "1     0.0               77.633603\n",
       "2     0.0               74.667908\n",
       "3     0.0               60.423750\n",
       "4     0.0               83.336495\n",
       "5     0.0               66.904218\n",
       "6     0.0               71.721559\n",
       "7     0.0               64.313389\n",
       "8     0.0               67.906658\n",
       "9     0.0               72.243854\n",
       "10    0.0               60.954030\n",
       "Name: yield, dtype: float64"
      ]
     },
     "execution_count": 46,
     "metadata": {},
     "output_type": "execute_result"
    }
   ],
   "source": [
    "wsa_yr_group.get_group(0.0)"
   ]
  },
  {
   "cell_type": "code",
   "execution_count": 47,
   "metadata": {},
   "outputs": [
    {
     "data": {
      "text/plain": [
       "<matplotlib.legend.Legend at 0x7f2771941780>"
      ]
     },
     "execution_count": 47,
     "metadata": {},
     "output_type": "execute_result"
    },
    {
     "data": {
      "image/png": "[encoded data removed]",
      "text/plain": [
       "<Figure size 640x480 with 1 Axes>"
      ]
     },
     "metadata": {},
     "output_type": "display_data"
    }
   ],
   "source": [
    "ax = plt.subplot()\n",
    "ax.set(title=\"Average yield per year\", xlabel=\"Year\", ylabel=\"Average yield\")\n",
    "ax.plot(wsa_yr_group.get_group(0.0).tolist(), label = \"Traditional\")\n",
    "ax.plot(wsa_yr_group.get_group(1.0).tolist(), label = \"WSA\")\n",
    "ax.legend()"
   ]
  },
  {
   "cell_type": "code",
   "execution_count": 103,
   "metadata": {},
   "outputs": [],
   "source": [
    "farmer_group = df.groupby(['Year','owner-id'])['implements-WSA']"
   ]
  },
  {
   "cell_type": "code",
   "execution_count": 105,
   "metadata": {},
   "outputs": [
    {
     "data": {
      "text/plain": [
       "{(0, 0.0): [2205, 2214, 2238, 2282, 2292], (0, 1.0): [439], (0, 2.0): [2111, 2148, 2187, 2210], (0, 3.0): [2197, 2215, 2223, 2234, 2250, 2280, 2284], (0, 4.0): [2459, 2475, 2516, 2520], (0, 5.0): [15, 16], (0, 6.0): [2006], (0, 7.0): [1411, 1421, 1442], (0, 8.0): [1450, 1505, 1510], (0, 9.0): [728, 732, 780], (0, 10.0): [1254, 1257, 1305, 1317], (0, 11.0): [2151, 2189, 2203, 2232], (0, 12.0): [1349, 1371, 1372, 1384, 1412], (0, 13.0): [1487, 1527, 1571, 1572], (0, 14.0): [1295, 1310, 1363, 1366], (0, 15.0): [1103, 1142, 1157], (0, 16.0): [1735, 1736], (0, 17.0): [363], (0, 18.0): [825, 827, 868, 923], (0, 19.0): [1399, 1404, 1435, 1464], (0, 20.0): [321, 380, 432], (0, 21.0): [11, 64, 150], (0, 22.0): [1540, 1567], (0, 23.0): [1615, 1635], (0, 24.0): [2000, 2076, 2130], (0, 25.0): [426, 504, 528], (0, 26.0): [991, 1033, 1041], (0, 27.0): [1140, 1188, 1200, 1214, 1250, 1267], (0, 28.0): [553, 555, 571, 602], (0, 29.0): [1667, 1691, 1725], (0, 30.0): [1502, 1580], (0, 31.0): [453, 460, 501, 527, 540], (0, 32.0): [92, 135, 157, 203], (0, 33.0): [854, 894], (0, 34.0): [1229, 1264, 1270], (0, 35.0): [2259, 2276, 2314, 2321, 2326], (0, 36.0): [673, 679, 737], (0, 37.0): [1670], (0, 38.0): [2266, 2291], (0, 39.0): [1790, 1793], (0, 40.0): [675, 680, 735, 761], (0, 41.0): [78, 111, 123, 137, 171, 186], (0, 42.0): [1858], (0, 43.0): [1826, 1836], (0, 44.0): [1808, 1830], (0, 45.0): [2514], (0, 46.0): [430, 463, 539], (0, 47.0): [1531, 1590, 1591, 1626, 1654], (0, 48.0): [2163, 2207, 2235], (0, 49.0): [1765, 1791], (0, 50.0): [1348, 1381], (0, 51.0): [1482], (0, 52.0): [55, 122, 126, 165, 166, 184, 220], (0, 53.0): [2429, 2460], (0, 54.0): [833, 881, 920], (0, 55.0): [2322, 2324, 2391, 2393], (0, 56.0): [216, 271], (0, 57.0): [720, 724, 768, 811, 831], (0, 58.0): [2488], (0, 59.0): [523], (0, 60.0): [1707, 1730], (0, 61.0): [1530, 1569], (0, 62.0): [1901, 1922, 1932, 1987, 2029], (0, 63.0): [409, 419, 444, 479, 507], (0, 64.0): [813, 829], (0, 65.0): [464, 468, 530, 560], (0, 66.0): [153, 160, 200, 222, 242, 252], (0, 67.0): [1278], (0, 68.0): [1028, 1056, 1095], (0, 69.0): [1496, 1563, 1564], (0, 70.0): [565, 629], (0, 71.0): [2269, 2315, 2323, 2382], (0, 72.0): [2358, 2384, 2403, 2407, 2492], (0, 73.0): [511, 548, 592, 594], (0, 74.0): [1889, 1892, 1936, 1976], (0, 75.0): [447, 467, 472, 532, 557], (0, 76.0): [1887, 1908, 1968], (0, 77.0): [843, 896, 899, 931], (0, 78.0): [2144, 2149, 2178, 2230], (0, 79.0): [1233, 1323, 1345], (0, 80.0): [2303, 2335, 2347, 2353, 2402, 2416], (0, 81.0): [1535, 1582, 1655, 1668], (0, 82.0): [742, 763], (0, 83.0): [1807, 1821], (0, 84.0): [1524, 1542, 1575], (0, 85.0): [2247, 2331, 2388], (0, 86.0): [628, 637, 665, 685, 696, 752, 764], (0, 87.0): [922, 966, 975, 988, 995], (0, 88.0): [1132, 1141, 1222, 1253], (0, 89.0): [1269, 1273, 1312], (0, 90.0): [930, 968, 989, 999, 1014, 1024, 1034, 1076], (0, 91.0): [921, 937, 950, 987, 1009, 1018, 1048], (0, 92.0): [1125, 1134, 1143, 1223], (0, 93.0): [192, 239, 288], (0, 94.0): [1685, 1692, 1759], (0, 95.0): [1453], (0, 96.0): [1235], (0, 97.0): [902, 929, 944], (0, 98.0): [2073, 2112, 2118, 2138], (0, 99.0): [2408, 2440], ...}"
      ]
     },
     "execution_count": 105,
     "metadata": {},
     "output_type": "execute_result"
    }
   ],
   "source": [
    "farmer_group.groups"
   ]
  },
  {
   "cell_type": "code",
   "execution_count": 127,
   "metadata": {},
   "outputs": [
    {
     "data": {
      "text/plain": [
       "9954     1.0\n",
       "9992     1.0\n",
       "10006    1.0\n",
       "10035    1.0\n",
       "Name: implements-WSA, dtype: float64"
      ]
     },
     "execution_count": 127,
     "metadata": {},
     "output_type": "execute_result"
    }
   ],
   "source": [
    "farmer_group.get_group((3, 11.0))"
   ]
  },
  {
   "cell_type": "code",
   "execution_count": 137,
   "metadata": {},
   "outputs": [
    {
     "data": {
      "text/plain": [
       "4806    0.0\n",
       "4815    0.0\n",
       "4839    0.0\n",
       "4883    0.0\n",
       "4893    0.0\n",
       "Name: implements-WSA, dtype: float64"
      ]
     },
     "execution_count": 137,
     "metadata": {},
     "output_type": "execute_result"
    }
   ],
   "source": [
    "farmer_group.get_group((1, 0.0))"
   ]
  },
  {
   "cell_type": "code",
   "execution_count": 157,
   "metadata": {},
   "outputs": [
    {
     "data": {
      "text/plain": [
       "25962    0.0\n",
       "26002    0.0\n",
       "Name: implements-WSA, dtype: float64"
      ]
     },
     "execution_count": 157,
     "metadata": {},
     "output_type": "execute_result"
    }
   ],
   "source": [
    "farmer_group.get_group((9, 144.0))"
   ]
  },
  {
   "cell_type": "code",
   "execution_count": 145,
   "metadata": {},
   "outputs": [
    {
     "data": {
      "text/plain": [
       "1.0"
      ]
     },
     "execution_count": 145,
     "metadata": {},
     "output_type": "execute_result"
    }
   ],
   "source": [
    "s =farmer_group.get_group((3, 11.0)).reset_index()\n",
    "idx = s['index']\n",
    "farmer_group.get_group((3, 11.0))[idx[0]]"
   ]
  },
  {
   "cell_type": "code",
   "execution_count": 146,
   "metadata": {},
   "outputs": [
    {
     "name": "stdout",
     "output_type": "stream",
     "text": [
      "9954\n",
      "9992\n",
      "10006\n",
      "10035\n"
     ]
    }
   ],
   "source": [
    "for i in idx:\n",
    "    print(i)"
   ]
  },
  {
   "cell_type": "code",
   "execution_count": 120,
   "metadata": {},
   "outputs": [
    {
     "data": {
      "text/html": [
       "<div>\n",
       "<style scoped>\n",
       "    .dataframe tbody tr th:only-of-type {\n",
       "        vertical-align: middle;\n",
       "    }\n",
       "\n",
       "    .dataframe tbody tr th {\n",
       "        vertical-align: top;\n",
       "    }\n",
       "\n",
       "    .dataframe thead th {\n",
       "        text-align: right;\n",
       "    }\n",
       "</style>\n",
       "<table border=\"1\" class=\"dataframe\">\n",
       "  <thead>\n",
       "    <tr style=\"text-align: right;\">\n",
       "      <th></th>\n",
       "      <th>who</th>\n",
       "      <th>xcor</th>\n",
       "      <th>ycor</th>\n",
       "      <th>owner-id</th>\n",
       "      <th>implements-WSA</th>\n",
       "      <th>yield</th>\n",
       "      <th>Year</th>\n",
       "      <th>Lead Farmers</th>\n",
       "      <th>Desperation</th>\n",
       "      <th>Jealousy</th>\n",
       "      <th>Grace Period Length</th>\n",
       "      <th>UniqueID</th>\n",
       "      <th>convert-to-WSA</th>\n",
       "    </tr>\n",
       "  </thead>\n",
       "  <tbody>\n",
       "    <tr>\n",
       "      <th>0</th>\n",
       "      <td>1085.0</td>\n",
       "      <td>25.0</td>\n",
       "      <td>17.0</td>\n",
       "      <td>784.0</td>\n",
       "      <td>0.0</td>\n",
       "      <td>50.000000</td>\n",
       "      <td>0</td>\n",
       "      <td>10</td>\n",
       "      <td>0</td>\n",
       "      <td>2</td>\n",
       "      <td>3</td>\n",
       "      <td>2023-11-27 14:45:01.473628</td>\n",
       "      <td>0</td>\n",
       "    </tr>\n",
       "    <tr>\n",
       "      <th>1</th>\n",
       "      <td>1109.0</td>\n",
       "      <td>25.0</td>\n",
       "      <td>25.0</td>\n",
       "      <td>666.0</td>\n",
       "      <td>0.0</td>\n",
       "      <td>50.000000</td>\n",
       "      <td>0</td>\n",
       "      <td>10</td>\n",
       "      <td>0</td>\n",
       "      <td>2</td>\n",
       "      <td>3</td>\n",
       "      <td>2023-11-27 14:45:01.473628</td>\n",
       "      <td>0</td>\n",
       "    </tr>\n",
       "    <tr>\n",
       "      <th>2</th>\n",
       "      <td>1124.0</td>\n",
       "      <td>25.0</td>\n",
       "      <td>-21.0</td>\n",
       "      <td>422.0</td>\n",
       "      <td>0.0</td>\n",
       "      <td>50.000000</td>\n",
       "      <td>0</td>\n",
       "      <td>10</td>\n",
       "      <td>0</td>\n",
       "      <td>2</td>\n",
       "      <td>3</td>\n",
       "      <td>2023-11-27 14:45:01.473628</td>\n",
       "      <td>0</td>\n",
       "    </tr>\n",
       "    <tr>\n",
       "      <th>3</th>\n",
       "      <td>1260.0</td>\n",
       "      <td>25.0</td>\n",
       "      <td>9.0</td>\n",
       "      <td>335.0</td>\n",
       "      <td>0.0</td>\n",
       "      <td>50.000000</td>\n",
       "      <td>0</td>\n",
       "      <td>10</td>\n",
       "      <td>0</td>\n",
       "      <td>2</td>\n",
       "      <td>3</td>\n",
       "      <td>2023-11-27 14:45:01.473628</td>\n",
       "      <td>0</td>\n",
       "    </tr>\n",
       "    <tr>\n",
       "      <th>4</th>\n",
       "      <td>1280.0</td>\n",
       "      <td>25.0</td>\n",
       "      <td>5.0</td>\n",
       "      <td>216.0</td>\n",
       "      <td>0.0</td>\n",
       "      <td>50.000000</td>\n",
       "      <td>0</td>\n",
       "      <td>10</td>\n",
       "      <td>0</td>\n",
       "      <td>2</td>\n",
       "      <td>3</td>\n",
       "      <td>2023-11-27 14:45:01.473628</td>\n",
       "      <td>0</td>\n",
       "    </tr>\n",
       "    <tr>\n",
       "      <th>...</th>\n",
       "      <td>...</td>\n",
       "      <td>...</td>\n",
       "      <td>...</td>\n",
       "      <td>...</td>\n",
       "      <td>...</td>\n",
       "      <td>...</td>\n",
       "      <td>...</td>\n",
       "      <td>...</td>\n",
       "      <td>...</td>\n",
       "      <td>...</td>\n",
       "      <td>...</td>\n",
       "      <td>...</td>\n",
       "      <td>...</td>\n",
       "    </tr>\n",
       "    <tr>\n",
       "      <th>28606</th>\n",
       "      <td>3074.0</td>\n",
       "      <td>-25.0</td>\n",
       "      <td>6.0</td>\n",
       "      <td>640.0</td>\n",
       "      <td>1.0</td>\n",
       "      <td>65.579194</td>\n",
       "      <td>10</td>\n",
       "      <td>10</td>\n",
       "      <td>0</td>\n",
       "      <td>2</td>\n",
       "      <td>3</td>\n",
       "      <td>2023-11-27 14:45:01.473628</td>\n",
       "      <td>0</td>\n",
       "    </tr>\n",
       "    <tr>\n",
       "      <th>28607</th>\n",
       "      <td>3107.0</td>\n",
       "      <td>-25.0</td>\n",
       "      <td>12.0</td>\n",
       "      <td>762.0</td>\n",
       "      <td>0.0</td>\n",
       "      <td>61.173142</td>\n",
       "      <td>10</td>\n",
       "      <td>10</td>\n",
       "      <td>0</td>\n",
       "      <td>2</td>\n",
       "      <td>3</td>\n",
       "      <td>2023-11-27 14:45:01.473628</td>\n",
       "      <td>0</td>\n",
       "    </tr>\n",
       "    <tr>\n",
       "      <th>28608</th>\n",
       "      <td>3153.0</td>\n",
       "      <td>-25.0</td>\n",
       "      <td>11.0</td>\n",
       "      <td>212.0</td>\n",
       "      <td>0.0</td>\n",
       "      <td>61.158390</td>\n",
       "      <td>10</td>\n",
       "      <td>10</td>\n",
       "      <td>0</td>\n",
       "      <td>2</td>\n",
       "      <td>3</td>\n",
       "      <td>2023-11-27 14:45:01.473628</td>\n",
       "      <td>0</td>\n",
       "    </tr>\n",
       "    <tr>\n",
       "      <th>28609</th>\n",
       "      <td>3302.0</td>\n",
       "      <td>-25.0</td>\n",
       "      <td>14.0</td>\n",
       "      <td>554.0</td>\n",
       "      <td>0.0</td>\n",
       "      <td>61.202551</td>\n",
       "      <td>10</td>\n",
       "      <td>10</td>\n",
       "      <td>0</td>\n",
       "      <td>2</td>\n",
       "      <td>3</td>\n",
       "      <td>2023-11-27 14:45:01.473628</td>\n",
       "      <td>0</td>\n",
       "    </tr>\n",
       "    <tr>\n",
       "      <th>28610</th>\n",
       "      <td>3325.0</td>\n",
       "      <td>-25.0</td>\n",
       "      <td>-14.0</td>\n",
       "      <td>792.0</td>\n",
       "      <td>0.0</td>\n",
       "      <td>60.779228</td>\n",
       "      <td>10</td>\n",
       "      <td>10</td>\n",
       "      <td>0</td>\n",
       "      <td>2</td>\n",
       "      <td>3</td>\n",
       "      <td>2023-11-27 14:45:01.473628</td>\n",
       "      <td>0</td>\n",
       "    </tr>\n",
       "  </tbody>\n",
       "</table>\n",
       "<p>28611 rows × 13 columns</p>\n",
       "</div>"
      ],
      "text/plain": [
       "          who  xcor  ycor  owner-id  implements-WSA      yield  Year  \\\n",
       "0      1085.0  25.0  17.0     784.0             0.0  50.000000     0   \n",
       "1      1109.0  25.0  25.0     666.0             0.0  50.000000     0   \n",
       "2      1124.0  25.0 -21.0     422.0             0.0  50.000000     0   \n",
       "3      1260.0  25.0   9.0     335.0             0.0  50.000000     0   \n",
       "4      1280.0  25.0   5.0     216.0             0.0  50.000000     0   \n",
       "...       ...   ...   ...       ...             ...        ...   ...   \n",
       "28606  3074.0 -25.0   6.0     640.0             1.0  65.579194    10   \n",
       "28607  3107.0 -25.0  12.0     762.0             0.0  61.173142    10   \n",
       "28608  3153.0 -25.0  11.0     212.0             0.0  61.158390    10   \n",
       "28609  3302.0 -25.0  14.0     554.0             0.0  61.202551    10   \n",
       "28610  3325.0 -25.0 -14.0     792.0             0.0  60.779228    10   \n",
       "\n",
       "       Lead Farmers  Desperation  Jealousy  Grace Period Length  \\\n",
       "0                10            0         2                    3   \n",
       "1                10            0         2                    3   \n",
       "2                10            0         2                    3   \n",
       "3                10            0         2                    3   \n",
       "4                10            0         2                    3   \n",
       "...             ...          ...       ...                  ...   \n",
       "28606            10            0         2                    3   \n",
       "28607            10            0         2                    3   \n",
       "28608            10            0         2                    3   \n",
       "28609            10            0         2                    3   \n",
       "28610            10            0         2                    3   \n",
       "\n",
       "                         UniqueID  convert-to-WSA  \n",
       "0      2023-11-27 14:45:01.473628               0  \n",
       "1      2023-11-27 14:45:01.473628               0  \n",
       "2      2023-11-27 14:45:01.473628               0  \n",
       "3      2023-11-27 14:45:01.473628               0  \n",
       "4      2023-11-27 14:45:01.473628               0  \n",
       "...                           ...             ...  \n",
       "28606  2023-11-27 14:45:01.473628               0  \n",
       "28607  2023-11-27 14:45:01.473628               0  \n",
       "28608  2023-11-27 14:45:01.473628               0  \n",
       "28609  2023-11-27 14:45:01.473628               0  \n",
       "28610  2023-11-27 14:45:01.473628               0  \n",
       "\n",
       "[28611 rows x 13 columns]"
      ]
     },
     "execution_count": 120,
     "metadata": {},
     "output_type": "execute_result"
    }
   ],
   "source": [
    "df['convert-to-WSA'] = 0\n",
    "df"
   ]
  },
  {
   "cell_type": "code",
   "execution_count": 151,
   "metadata": {},
   "outputs": [
    {
     "data": {
      "text/plain": [
       "0"
      ]
     },
     "execution_count": 151,
     "metadata": {},
     "output_type": "execute_result"
    }
   ],
   "source": [
    "df.loc[28606, 'convert-to-WSA'] "
   ]
  },
  {
   "cell_type": "code",
   "execution_count": 152,
   "metadata": {},
   "outputs": [],
   "source": [
    "for year in range(1,11):\n",
    "    for farmer in df['owner-id'].unique():\n",
    "        s = farmer_group.get_group((year, farmer)).reset_index()\n",
    "        s_pre = farmer_group.get_group((year-1, farmer)).reset_index()\n",
    "        # index is i=0 and wsa is i=1\n",
    "        for i in s['index']:\n",
    "            if (farmer_group.get_group((year, farmer))[i] == 1.0) & (farmer_group.get_group((year-1,farmer))[s_pre['index'][0]] == 0.0):\n",
    "                df.loc[i, 'convert-to-WSA'] = 1"
   ]
  },
  {
   "cell_type": "code",
   "execution_count": 154,
   "metadata": {},
   "outputs": [
    {
     "data": {
      "text/html": [
       "<div>\n",
       "<style scoped>\n",
       "    .dataframe tbody tr th:only-of-type {\n",
       "        vertical-align: middle;\n",
       "    }\n",
       "\n",
       "    .dataframe tbody tr th {\n",
       "        vertical-align: top;\n",
       "    }\n",
       "\n",
       "    .dataframe thead th {\n",
       "        text-align: right;\n",
       "    }\n",
       "</style>\n",
       "<table border=\"1\" class=\"dataframe\">\n",
       "  <thead>\n",
       "    <tr style=\"text-align: right;\">\n",
       "      <th></th>\n",
       "      <th>who</th>\n",
       "      <th>xcor</th>\n",
       "      <th>ycor</th>\n",
       "      <th>owner-id</th>\n",
       "      <th>implements-WSA</th>\n",
       "      <th>yield</th>\n",
       "      <th>Year</th>\n",
       "      <th>Lead Farmers</th>\n",
       "      <th>Desperation</th>\n",
       "      <th>Jealousy</th>\n",
       "      <th>Grace Period Length</th>\n",
       "      <th>UniqueID</th>\n",
       "      <th>convert-to-WSA</th>\n",
       "    </tr>\n",
       "  </thead>\n",
       "  <tbody>\n",
       "    <tr>\n",
       "      <th>7961</th>\n",
       "      <td>954.0</td>\n",
       "      <td>22.0</td>\n",
       "      <td>22.0</td>\n",
       "      <td>542.0</td>\n",
       "      <td>1.0</td>\n",
       "      <td>60.778902</td>\n",
       "      <td>3</td>\n",
       "      <td>10</td>\n",
       "      <td>0</td>\n",
       "      <td>2</td>\n",
       "      <td>3</td>\n",
       "      <td>2023-11-27 14:45:01.473628</td>\n",
       "      <td>1</td>\n",
       "    </tr>\n",
       "    <tr>\n",
       "      <th>7965</th>\n",
       "      <td>1089.0</td>\n",
       "      <td>22.0</td>\n",
       "      <td>20.0</td>\n",
       "      <td>442.0</td>\n",
       "      <td>1.0</td>\n",
       "      <td>60.747775</td>\n",
       "      <td>3</td>\n",
       "      <td>10</td>\n",
       "      <td>0</td>\n",
       "      <td>2</td>\n",
       "      <td>3</td>\n",
       "      <td>2023-11-27 14:45:01.473628</td>\n",
       "      <td>1</td>\n",
       "    </tr>\n",
       "    <tr>\n",
       "      <th>7970</th>\n",
       "      <td>1439.0</td>\n",
       "      <td>22.0</td>\n",
       "      <td>21.0</td>\n",
       "      <td>442.0</td>\n",
       "      <td>1.0</td>\n",
       "      <td>60.763352</td>\n",
       "      <td>3</td>\n",
       "      <td>10</td>\n",
       "      <td>0</td>\n",
       "      <td>2</td>\n",
       "      <td>3</td>\n",
       "      <td>2023-11-27 14:45:01.473628</td>\n",
       "      <td>1</td>\n",
       "    </tr>\n",
       "    <tr>\n",
       "      <th>7975</th>\n",
       "      <td>1688.0</td>\n",
       "      <td>22.0</td>\n",
       "      <td>19.0</td>\n",
       "      <td>442.0</td>\n",
       "      <td>1.0</td>\n",
       "      <td>60.732171</td>\n",
       "      <td>3</td>\n",
       "      <td>10</td>\n",
       "      <td>0</td>\n",
       "      <td>2</td>\n",
       "      <td>3</td>\n",
       "      <td>2023-11-27 14:45:01.473628</td>\n",
       "      <td>1</td>\n",
       "    </tr>\n",
       "    <tr>\n",
       "      <th>7995</th>\n",
       "      <td>2759.0</td>\n",
       "      <td>22.0</td>\n",
       "      <td>-19.0</td>\n",
       "      <td>93.0</td>\n",
       "      <td>1.0</td>\n",
       "      <td>60.110644</td>\n",
       "      <td>3</td>\n",
       "      <td>10</td>\n",
       "      <td>0</td>\n",
       "      <td>2</td>\n",
       "      <td>3</td>\n",
       "      <td>2023-11-27 14:45:01.473628</td>\n",
       "      <td>1</td>\n",
       "    </tr>\n",
       "    <tr>\n",
       "      <th>...</th>\n",
       "      <td>...</td>\n",
       "      <td>...</td>\n",
       "      <td>...</td>\n",
       "      <td>...</td>\n",
       "      <td>...</td>\n",
       "      <td>...</td>\n",
       "      <td>...</td>\n",
       "      <td>...</td>\n",
       "      <td>...</td>\n",
       "      <td>...</td>\n",
       "      <td>...</td>\n",
       "      <td>...</td>\n",
       "      <td>...</td>\n",
       "    </tr>\n",
       "    <tr>\n",
       "      <th>28524</th>\n",
       "      <td>1826.0</td>\n",
       "      <td>-24.0</td>\n",
       "      <td>17.0</td>\n",
       "      <td>45.0</td>\n",
       "      <td>1.0</td>\n",
       "      <td>61.246734</td>\n",
       "      <td>10</td>\n",
       "      <td>10</td>\n",
       "      <td>0</td>\n",
       "      <td>2</td>\n",
       "      <td>3</td>\n",
       "      <td>2023-11-27 14:45:01.473628</td>\n",
       "      <td>1</td>\n",
       "    </tr>\n",
       "    <tr>\n",
       "      <th>28563</th>\n",
       "      <td>1013.0</td>\n",
       "      <td>-25.0</td>\n",
       "      <td>-1.0</td>\n",
       "      <td>144.0</td>\n",
       "      <td>1.0</td>\n",
       "      <td>60.978875</td>\n",
       "      <td>10</td>\n",
       "      <td>10</td>\n",
       "      <td>0</td>\n",
       "      <td>2</td>\n",
       "      <td>3</td>\n",
       "      <td>2023-11-27 14:45:01.473628</td>\n",
       "      <td>1</td>\n",
       "    </tr>\n",
       "    <tr>\n",
       "      <th>28564</th>\n",
       "      <td>1028.0</td>\n",
       "      <td>-25.0</td>\n",
       "      <td>17.0</td>\n",
       "      <td>677.0</td>\n",
       "      <td>1.0</td>\n",
       "      <td>61.246430</td>\n",
       "      <td>10</td>\n",
       "      <td>10</td>\n",
       "      <td>0</td>\n",
       "      <td>2</td>\n",
       "      <td>3</td>\n",
       "      <td>2023-11-27 14:45:01.473628</td>\n",
       "      <td>1</td>\n",
       "    </tr>\n",
       "    <tr>\n",
       "      <th>28567</th>\n",
       "      <td>1265.0</td>\n",
       "      <td>-25.0</td>\n",
       "      <td>18.0</td>\n",
       "      <td>677.0</td>\n",
       "      <td>1.0</td>\n",
       "      <td>61.260993</td>\n",
       "      <td>10</td>\n",
       "      <td>10</td>\n",
       "      <td>0</td>\n",
       "      <td>2</td>\n",
       "      <td>3</td>\n",
       "      <td>2023-11-27 14:45:01.473628</td>\n",
       "      <td>1</td>\n",
       "    </tr>\n",
       "    <tr>\n",
       "      <th>28603</th>\n",
       "      <td>2981.0</td>\n",
       "      <td>-25.0</td>\n",
       "      <td>0.0</td>\n",
       "      <td>144.0</td>\n",
       "      <td>1.0</td>\n",
       "      <td>60.994010</td>\n",
       "      <td>10</td>\n",
       "      <td>10</td>\n",
       "      <td>0</td>\n",
       "      <td>2</td>\n",
       "      <td>3</td>\n",
       "      <td>2023-11-27 14:45:01.473628</td>\n",
       "      <td>1</td>\n",
       "    </tr>\n",
       "  </tbody>\n",
       "</table>\n",
       "<p>1001 rows × 13 columns</p>\n",
       "</div>"
      ],
      "text/plain": [
       "          who  xcor  ycor  owner-id  implements-WSA      yield  Year  \\\n",
       "7961    954.0  22.0  22.0     542.0             1.0  60.778902     3   \n",
       "7965   1089.0  22.0  20.0     442.0             1.0  60.747775     3   \n",
       "7970   1439.0  22.0  21.0     442.0             1.0  60.763352     3   \n",
       "7975   1688.0  22.0  19.0     442.0             1.0  60.732171     3   \n",
       "7995   2759.0  22.0 -19.0      93.0             1.0  60.110644     3   \n",
       "...       ...   ...   ...       ...             ...        ...   ...   \n",
       "28524  1826.0 -24.0  17.0      45.0             1.0  61.246734    10   \n",
       "28563  1013.0 -25.0  -1.0     144.0             1.0  60.978875    10   \n",
       "28564  1028.0 -25.0  17.0     677.0             1.0  61.246430    10   \n",
       "28567  1265.0 -25.0  18.0     677.0             1.0  61.260993    10   \n",
       "28603  2981.0 -25.0   0.0     144.0             1.0  60.994010    10   \n",
       "\n",
       "       Lead Farmers  Desperation  Jealousy  Grace Period Length  \\\n",
       "7961             10            0         2                    3   \n",
       "7965             10            0         2                    3   \n",
       "7970             10            0         2                    3   \n",
       "7975             10            0         2                    3   \n",
       "7995             10            0         2                    3   \n",
       "...             ...          ...       ...                  ...   \n",
       "28524            10            0         2                    3   \n",
       "28563            10            0         2                    3   \n",
       "28564            10            0         2                    3   \n",
       "28567            10            0         2                    3   \n",
       "28603            10            0         2                    3   \n",
       "\n",
       "                         UniqueID  convert-to-WSA  \n",
       "7961   2023-11-27 14:45:01.473628               1  \n",
       "7965   2023-11-27 14:45:01.473628               1  \n",
       "7970   2023-11-27 14:45:01.473628               1  \n",
       "7975   2023-11-27 14:45:01.473628               1  \n",
       "7995   2023-11-27 14:45:01.473628               1  \n",
       "...                           ...             ...  \n",
       "28524  2023-11-27 14:45:01.473628               1  \n",
       "28563  2023-11-27 14:45:01.473628               1  \n",
       "28564  2023-11-27 14:45:01.473628               1  \n",
       "28567  2023-11-27 14:45:01.473628               1  \n",
       "28603  2023-11-27 14:45:01.473628               1  \n",
       "\n",
       "[1001 rows x 13 columns]"
      ]
     },
     "execution_count": 154,
     "metadata": {},
     "output_type": "execute_result"
    }
   ],
   "source": [
    "df[df['convert-to-WSA'] == 1]"
   ]
  },
  {
   "cell_type": "code",
   "execution_count": 128,
   "metadata": {},
   "outputs": [
    {
     "ename": "KeyError",
     "evalue": "2601",
     "output_type": "error",
     "traceback": [
      "\u001b[0;31m---------------------------------------------------------------------------\u001b[0m",
      "\u001b[0;31mKeyError\u001b[0m                                  Traceback (most recent call last)",
      "File \u001b[0;32m~/miniconda3/envs/landlab/lib/python3.10/site-packages/pandas/core/indexes/base.py:3790\u001b[0m, in \u001b[0;36mIndex.get_loc\u001b[0;34m(self, key)\u001b[0m\n\u001b[1;32m   3789\u001b[0m \u001b[39mtry\u001b[39;00m:\n\u001b[0;32m-> 3790\u001b[0m     \u001b[39mreturn\u001b[39;00m \u001b[39mself\u001b[39;49m\u001b[39m.\u001b[39;49m_engine\u001b[39m.\u001b[39;49mget_loc(casted_key)\n\u001b[1;32m   3791\u001b[0m \u001b[39mexcept\u001b[39;00m \u001b[39mKeyError\u001b[39;00m \u001b[39mas\u001b[39;00m err:\n",
      "File \u001b[0;32mindex.pyx:152\u001b[0m, in \u001b[0;36mpandas._libs.index.IndexEngine.get_loc\u001b[0;34m()\u001b[0m\n",
      "File \u001b[0;32mindex.pyx:181\u001b[0m, in \u001b[0;36mpandas._libs.index.IndexEngine.get_loc\u001b[0;34m()\u001b[0m\n",
      "File \u001b[0;32mpandas/_libs/hashtable_class_helper.pxi:2606\u001b[0m, in \u001b[0;36mpandas._libs.hashtable.Int64HashTable.get_item\u001b[0;34m()\u001b[0m\n",
      "File \u001b[0;32mpandas/_libs/hashtable_class_helper.pxi:2630\u001b[0m, in \u001b[0;36mpandas._libs.hashtable.Int64HashTable.get_item\u001b[0;34m()\u001b[0m\n",
      "\u001b[0;31mKeyError\u001b[0m: 2601",
      "\nThe above exception was the direct cause of the following exception:\n",
      "\u001b[0;31mKeyError\u001b[0m                                  Traceback (most recent call last)",
      "Cell \u001b[0;32mIn[128], line 4\u001b[0m\n\u001b[1;32m      2\u001b[0m \u001b[39mfor\u001b[39;00m farmer \u001b[39min\u001b[39;00m df[\u001b[39m'\u001b[39m\u001b[39mowner-id\u001b[39m\u001b[39m'\u001b[39m]\u001b[39m.\u001b[39munique():\n\u001b[1;32m      3\u001b[0m     \u001b[39mfor\u001b[39;00m idx \u001b[39min\u001b[39;00m farmer_group\u001b[39m.\u001b[39mget_group((year, farmer))\u001b[39m.\u001b[39mindex:\n\u001b[0;32m----> 4\u001b[0m         \u001b[39mif\u001b[39;00m (farmer_group\u001b[39m.\u001b[39mget_group((year, farmer))[idx] \u001b[39m==\u001b[39m \u001b[39m1.0\u001b[39m) \u001b[39m&\u001b[39m (farmer_group\u001b[39m.\u001b[39;49mget_group((year\u001b[39m-\u001b[39;49m\u001b[39m1\u001b[39;49m,farmer))[idx] \u001b[39m==\u001b[39m \u001b[39m0.0\u001b[39m):\n\u001b[1;32m      5\u001b[0m             df\u001b[39m.\u001b[39miloc[idx, \u001b[39m'\u001b[39m\u001b[39mconvert-to-WSA\u001b[39m\u001b[39m'\u001b[39m] \u001b[39m=\u001b[39m \u001b[39m1\u001b[39m\n",
      "File \u001b[0;32m~/miniconda3/envs/landlab/lib/python3.10/site-packages/pandas/core/series.py:1040\u001b[0m, in \u001b[0;36mSeries.__getitem__\u001b[0;34m(self, key)\u001b[0m\n\u001b[1;32m   1037\u001b[0m     \u001b[39mreturn\u001b[39;00m \u001b[39mself\u001b[39m\u001b[39m.\u001b[39m_values[key]\n\u001b[1;32m   1039\u001b[0m \u001b[39melif\u001b[39;00m key_is_scalar:\n\u001b[0;32m-> 1040\u001b[0m     \u001b[39mreturn\u001b[39;00m \u001b[39mself\u001b[39;49m\u001b[39m.\u001b[39;49m_get_value(key)\n\u001b[1;32m   1042\u001b[0m \u001b[39m# Convert generator to list before going through hashable part\u001b[39;00m\n\u001b[1;32m   1043\u001b[0m \u001b[39m# (We will iterate through the generator there to check for slices)\u001b[39;00m\n\u001b[1;32m   1044\u001b[0m \u001b[39mif\u001b[39;00m is_iterator(key):\n",
      "File \u001b[0;32m~/miniconda3/envs/landlab/lib/python3.10/site-packages/pandas/core/series.py:1156\u001b[0m, in \u001b[0;36mSeries._get_value\u001b[0;34m(self, label, takeable)\u001b[0m\n\u001b[1;32m   1153\u001b[0m     \u001b[39mreturn\u001b[39;00m \u001b[39mself\u001b[39m\u001b[39m.\u001b[39m_values[label]\n\u001b[1;32m   1155\u001b[0m \u001b[39m# Similar to Index.get_value, but we do not fall back to positional\u001b[39;00m\n\u001b[0;32m-> 1156\u001b[0m loc \u001b[39m=\u001b[39m \u001b[39mself\u001b[39;49m\u001b[39m.\u001b[39;49mindex\u001b[39m.\u001b[39;49mget_loc(label)\n\u001b[1;32m   1158\u001b[0m \u001b[39mif\u001b[39;00m is_integer(loc):\n\u001b[1;32m   1159\u001b[0m     \u001b[39mreturn\u001b[39;00m \u001b[39mself\u001b[39m\u001b[39m.\u001b[39m_values[loc]\n",
      "File \u001b[0;32m~/miniconda3/envs/landlab/lib/python3.10/site-packages/pandas/core/indexes/base.py:3797\u001b[0m, in \u001b[0;36mIndex.get_loc\u001b[0;34m(self, key)\u001b[0m\n\u001b[1;32m   3792\u001b[0m     \u001b[39mif\u001b[39;00m \u001b[39misinstance\u001b[39m(casted_key, \u001b[39mslice\u001b[39m) \u001b[39mor\u001b[39;00m (\n\u001b[1;32m   3793\u001b[0m         \u001b[39misinstance\u001b[39m(casted_key, abc\u001b[39m.\u001b[39mIterable)\n\u001b[1;32m   3794\u001b[0m         \u001b[39mand\u001b[39;00m \u001b[39many\u001b[39m(\u001b[39misinstance\u001b[39m(x, \u001b[39mslice\u001b[39m) \u001b[39mfor\u001b[39;00m x \u001b[39min\u001b[39;00m casted_key)\n\u001b[1;32m   3795\u001b[0m     ):\n\u001b[1;32m   3796\u001b[0m         \u001b[39mraise\u001b[39;00m InvalidIndexError(key)\n\u001b[0;32m-> 3797\u001b[0m     \u001b[39mraise\u001b[39;00m \u001b[39mKeyError\u001b[39;00m(key) \u001b[39mfrom\u001b[39;00m \u001b[39merr\u001b[39;00m\n\u001b[1;32m   3798\u001b[0m \u001b[39mexcept\u001b[39;00m \u001b[39mTypeError\u001b[39;00m:\n\u001b[1;32m   3799\u001b[0m     \u001b[39m# If we have a listlike key, _check_indexing_error will raise\u001b[39;00m\n\u001b[1;32m   3800\u001b[0m     \u001b[39m#  InvalidIndexError. Otherwise we fall through and re-raise\u001b[39;00m\n\u001b[1;32m   3801\u001b[0m     \u001b[39m#  the TypeError.\u001b[39;00m\n\u001b[1;32m   3802\u001b[0m     \u001b[39mself\u001b[39m\u001b[39m.\u001b[39m_check_indexing_error(key)\n",
      "\u001b[0;31mKeyError\u001b[0m: 2601"
     ]
    }
   ],
   "source": [
    "for year in range(1,11):\n",
    "    for farmer in df['owner-id'].unique():\n",
    "        for idx in farmer_group.get_group((year, farmer)).index:\n",
    "            if (farmer_group.get_group((year, farmer))[idx] == 1.0) & (farmer_group.get_group((year-1,farmer))[idx] == 0.0):\n",
    "                df.iloc[idx, 'convert-to-WSA'] = 1"
   ]
  },
  {
   "cell_type": "code",
   "execution_count": 111,
   "metadata": {},
   "outputs": [],
   "source": [
    "farmer_group1 = df.groupby(['Year','owner-id'])['implements-WSA'].mean()"
   ]
  },
  {
   "cell_type": "code",
   "execution_count": 112,
   "metadata": {},
   "outputs": [
    {
     "data": {
      "text/plain": [
       "Year  owner-id\n",
       "0     0.0         0.0\n",
       "      1.0         0.0\n",
       "      2.0         0.0\n",
       "      3.0         0.0\n",
       "      4.0         0.0\n",
       "                 ... \n",
       "10    795.0       1.0\n",
       "      796.0       0.0\n",
       "      797.0       0.0\n",
       "      798.0       0.0\n",
       "      799.0       1.0\n",
       "Name: implements-WSA, Length: 8800, dtype: float64"
      ]
     },
     "execution_count": 112,
     "metadata": {},
     "output_type": "execute_result"
    }
   ],
   "source": [
    "farmer_group1"
   ]
  },
  {
   "cell_type": "code",
   "execution_count": 113,
   "metadata": {},
   "outputs": [
    {
     "data": {
      "text/plain": [
       "owner-id\n",
       "11.0     1.0\n",
       "24.0     1.0\n",
       "58.0     1.0\n",
       "60.0     1.0\n",
       "63.0     1.0\n",
       "71.0     1.0\n",
       "73.0     1.0\n",
       "78.0     1.0\n",
       "93.0     1.0\n",
       "135.0    1.0\n",
       "138.0    1.0\n",
       "150.0    1.0\n",
       "152.0    1.0\n",
       "154.0    1.0\n",
       "210.0    1.0\n",
       "214.0    1.0\n",
       "225.0    1.0\n",
       "230.0    1.0\n",
       "249.0    1.0\n",
       "252.0    1.0\n",
       "260.0    1.0\n",
       "268.0    1.0\n",
       "272.0    1.0\n",
       "273.0    1.0\n",
       "304.0    1.0\n",
       "322.0    1.0\n",
       "325.0    1.0\n",
       "350.0    1.0\n",
       "355.0    1.0\n",
       "401.0    1.0\n",
       "412.0    1.0\n",
       "421.0    1.0\n",
       "427.0    1.0\n",
       "433.0    1.0\n",
       "442.0    1.0\n",
       "472.0    1.0\n",
       "497.0    1.0\n",
       "505.0    1.0\n",
       "523.0    1.0\n",
       "536.0    1.0\n",
       "542.0    1.0\n",
       "550.0    1.0\n",
       "562.0    1.0\n",
       "577.0    1.0\n",
       "592.0    1.0\n",
       "598.0    1.0\n",
       "602.0    1.0\n",
       "664.0    1.0\n",
       "670.0    1.0\n",
       "676.0    1.0\n",
       "697.0    1.0\n",
       "704.0    1.0\n",
       "736.0    1.0\n",
       "783.0    1.0\n",
       "Name: implements-WSA, dtype: float64"
      ]
     },
     "execution_count": 113,
     "metadata": {},
     "output_type": "execute_result"
    }
   ],
   "source": [
    "farmer_group1[3][farmer_group1[3]==1.0]"
   ]
  },
  {
   "cell_type": "code",
   "execution_count": 117,
   "metadata": {},
   "outputs": [
    {
     "ename": "KeyError",
     "evalue": "'test_col'",
     "output_type": "error",
     "traceback": [
      "\u001b[0;31m---------------------------------------------------------------------------\u001b[0m",
      "\u001b[0;31mKeyError\u001b[0m                                  Traceback (most recent call last)",
      "File \u001b[0;32m~/miniconda3/envs/landlab/lib/python3.10/site-packages/pandas/core/indexes/base.py:3790\u001b[0m, in \u001b[0;36mIndex.get_loc\u001b[0;34m(self, key)\u001b[0m\n\u001b[1;32m   3789\u001b[0m \u001b[39mtry\u001b[39;00m:\n\u001b[0;32m-> 3790\u001b[0m     \u001b[39mreturn\u001b[39;00m \u001b[39mself\u001b[39;49m\u001b[39m.\u001b[39;49m_engine\u001b[39m.\u001b[39;49mget_loc(casted_key)\n\u001b[1;32m   3791\u001b[0m \u001b[39mexcept\u001b[39;00m \u001b[39mKeyError\u001b[39;00m \u001b[39mas\u001b[39;00m err:\n",
      "File \u001b[0;32mindex.pyx:152\u001b[0m, in \u001b[0;36mpandas._libs.index.IndexEngine.get_loc\u001b[0;34m()\u001b[0m\n",
      "File \u001b[0;32mindex.pyx:181\u001b[0m, in \u001b[0;36mpandas._libs.index.IndexEngine.get_loc\u001b[0;34m()\u001b[0m\n",
      "File \u001b[0;32mpandas/_libs/hashtable_class_helper.pxi:7080\u001b[0m, in \u001b[0;36mpandas._libs.hashtable.PyObjectHashTable.get_item\u001b[0;34m()\u001b[0m\n",
      "File \u001b[0;32mpandas/_libs/hashtable_class_helper.pxi:7088\u001b[0m, in \u001b[0;36mpandas._libs.hashtable.PyObjectHashTable.get_item\u001b[0;34m()\u001b[0m\n",
      "\u001b[0;31mKeyError\u001b[0m: 'test_col'",
      "\nThe above exception was the direct cause of the following exception:\n",
      "\u001b[0;31mKeyError\u001b[0m                                  Traceback (most recent call last)",
      "Cell \u001b[0;32mIn[117], line 1\u001b[0m\n\u001b[0;32m----> 1\u001b[0m farmer_group1\u001b[39m.\u001b[39;49mloc[:,\u001b[39m'\u001b[39;49m\u001b[39mtest_col\u001b[39;49m\u001b[39m'\u001b[39;49m] \u001b[39m=\u001b[39m \u001b[39m1\u001b[39m\n",
      "File \u001b[0;32m~/miniconda3/envs/landlab/lib/python3.10/site-packages/pandas/core/indexing.py:881\u001b[0m, in \u001b[0;36m_LocationIndexer.__setitem__\u001b[0;34m(self, key, value)\u001b[0m\n\u001b[1;32m    879\u001b[0m \u001b[39melse\u001b[39;00m:\n\u001b[1;32m    880\u001b[0m     key \u001b[39m=\u001b[39m com\u001b[39m.\u001b[39mapply_if_callable(key, \u001b[39mself\u001b[39m\u001b[39m.\u001b[39mobj)\n\u001b[0;32m--> 881\u001b[0m indexer \u001b[39m=\u001b[39m \u001b[39mself\u001b[39;49m\u001b[39m.\u001b[39;49m_get_setitem_indexer(key)\n\u001b[1;32m    882\u001b[0m \u001b[39mself\u001b[39m\u001b[39m.\u001b[39m_has_valid_setitem_indexer(key)\n\u001b[1;32m    884\u001b[0m iloc \u001b[39m=\u001b[39m \u001b[39mself\u001b[39m \u001b[39mif\u001b[39;00m \u001b[39mself\u001b[39m\u001b[39m.\u001b[39mname \u001b[39m==\u001b[39m \u001b[39m\"\u001b[39m\u001b[39miloc\u001b[39m\u001b[39m\"\u001b[39m \u001b[39melse\u001b[39;00m \u001b[39mself\u001b[39m\u001b[39m.\u001b[39mobj\u001b[39m.\u001b[39miloc\n",
      "File \u001b[0;32m~/miniconda3/envs/landlab/lib/python3.10/site-packages/pandas/core/indexing.py:764\u001b[0m, in \u001b[0;36m_LocationIndexer._get_setitem_indexer\u001b[0;34m(self, key)\u001b[0m\n\u001b[1;32m    760\u001b[0m \u001b[39mif\u001b[39;00m \u001b[39misinstance\u001b[39m(key, \u001b[39mrange\u001b[39m):\n\u001b[1;32m    761\u001b[0m     \u001b[39m# GH#45479 test_loc_setitem_range_key\u001b[39;00m\n\u001b[1;32m    762\u001b[0m     key \u001b[39m=\u001b[39m \u001b[39mlist\u001b[39m(key)\n\u001b[0;32m--> 764\u001b[0m \u001b[39mreturn\u001b[39;00m \u001b[39mself\u001b[39;49m\u001b[39m.\u001b[39;49m_convert_to_indexer(key, axis\u001b[39m=\u001b[39;49m\u001b[39m0\u001b[39;49m)\n",
      "File \u001b[0;32m~/miniconda3/envs/landlab/lib/python3.10/site-packages/pandas/core/indexing.py:1474\u001b[0m, in \u001b[0;36m_LocIndexer._convert_to_indexer\u001b[0;34m(self, key, axis)\u001b[0m\n\u001b[1;32m   1471\u001b[0m     \u001b[39mif\u001b[39;00m \u001b[39mself\u001b[39m\u001b[39m.\u001b[39mndim \u001b[39m==\u001b[39m \u001b[39m1\u001b[39m \u001b[39mand\u001b[39;00m \u001b[39many\u001b[39m(\u001b[39misinstance\u001b[39m(k, \u001b[39mtuple\u001b[39m) \u001b[39mfor\u001b[39;00m k \u001b[39min\u001b[39;00m key):\n\u001b[1;32m   1472\u001b[0m         \u001b[39m# GH#35349 Raise if tuple in tuple for series\u001b[39;00m\n\u001b[1;32m   1473\u001b[0m         \u001b[39mraise\u001b[39;00m IndexingError(\u001b[39m\"\u001b[39m\u001b[39mToo many indexers\u001b[39m\u001b[39m\"\u001b[39m)\n\u001b[0;32m-> 1474\u001b[0m     \u001b[39mreturn\u001b[39;00m labels\u001b[39m.\u001b[39;49mget_locs(key)\n\u001b[1;32m   1476\u001b[0m \u001b[39melif\u001b[39;00m is_list_like_indexer(key):\n\u001b[1;32m   1477\u001b[0m     \u001b[39mif\u001b[39;00m is_iterator(key):\n",
      "File \u001b[0;32m~/miniconda3/envs/landlab/lib/python3.10/site-packages/pandas/core/indexes/multi.py:3419\u001b[0m, in \u001b[0;36mMultiIndex.get_locs\u001b[0;34m(self, seq)\u001b[0m\n\u001b[1;32m   3415\u001b[0m     \u001b[39mcontinue\u001b[39;00m\n\u001b[1;32m   3417\u001b[0m \u001b[39melse\u001b[39;00m:\n\u001b[1;32m   3418\u001b[0m     \u001b[39m# a slice or a single label\u001b[39;00m\n\u001b[0;32m-> 3419\u001b[0m     lvl_indexer \u001b[39m=\u001b[39m \u001b[39mself\u001b[39;49m\u001b[39m.\u001b[39;49m_get_level_indexer(k, level\u001b[39m=\u001b[39;49mi, indexer\u001b[39m=\u001b[39;49mindexer)\n\u001b[1;32m   3421\u001b[0m \u001b[39m# update indexer\u001b[39;00m\n\u001b[1;32m   3422\u001b[0m lvl_indexer \u001b[39m=\u001b[39m _to_bool_indexer(lvl_indexer)\n",
      "File \u001b[0;32m~/miniconda3/envs/landlab/lib/python3.10/site-packages/pandas/core/indexes/multi.py:3276\u001b[0m, in \u001b[0;36mMultiIndex._get_level_indexer\u001b[0;34m(self, key, level, indexer)\u001b[0m\n\u001b[1;32m   3273\u001b[0m         \u001b[39mreturn\u001b[39;00m \u001b[39mslice\u001b[39m(i, j, step)\n\u001b[1;32m   3275\u001b[0m \u001b[39melse\u001b[39;00m:\n\u001b[0;32m-> 3276\u001b[0m     idx \u001b[39m=\u001b[39m \u001b[39mself\u001b[39;49m\u001b[39m.\u001b[39;49m_get_loc_single_level_index(level_index, key)\n\u001b[1;32m   3278\u001b[0m     \u001b[39mif\u001b[39;00m level \u001b[39m>\u001b[39m \u001b[39m0\u001b[39m \u001b[39mor\u001b[39;00m \u001b[39mself\u001b[39m\u001b[39m.\u001b[39m_lexsort_depth \u001b[39m==\u001b[39m \u001b[39m0\u001b[39m:\n\u001b[1;32m   3279\u001b[0m         \u001b[39m# Desired level is not sorted\u001b[39;00m\n\u001b[1;32m   3280\u001b[0m         \u001b[39mif\u001b[39;00m \u001b[39misinstance\u001b[39m(idx, \u001b[39mslice\u001b[39m):\n\u001b[1;32m   3281\u001b[0m             \u001b[39m# test_get_loc_partial_timestamp_multiindex\u001b[39;00m\n",
      "File \u001b[0;32m~/miniconda3/envs/landlab/lib/python3.10/site-packages/pandas/core/indexes/multi.py:2865\u001b[0m, in \u001b[0;36mMultiIndex._get_loc_single_level_index\u001b[0;34m(self, level_index, key)\u001b[0m\n\u001b[1;32m   2863\u001b[0m     \u001b[39mreturn\u001b[39;00m \u001b[39m-\u001b[39m\u001b[39m1\u001b[39m\n\u001b[1;32m   2864\u001b[0m \u001b[39melse\u001b[39;00m:\n\u001b[0;32m-> 2865\u001b[0m     \u001b[39mreturn\u001b[39;00m level_index\u001b[39m.\u001b[39;49mget_loc(key)\n",
      "File \u001b[0;32m~/miniconda3/envs/landlab/lib/python3.10/site-packages/pandas/core/indexes/base.py:3797\u001b[0m, in \u001b[0;36mIndex.get_loc\u001b[0;34m(self, key)\u001b[0m\n\u001b[1;32m   3792\u001b[0m     \u001b[39mif\u001b[39;00m \u001b[39misinstance\u001b[39m(casted_key, \u001b[39mslice\u001b[39m) \u001b[39mor\u001b[39;00m (\n\u001b[1;32m   3793\u001b[0m         \u001b[39misinstance\u001b[39m(casted_key, abc\u001b[39m.\u001b[39mIterable)\n\u001b[1;32m   3794\u001b[0m         \u001b[39mand\u001b[39;00m \u001b[39many\u001b[39m(\u001b[39misinstance\u001b[39m(x, \u001b[39mslice\u001b[39m) \u001b[39mfor\u001b[39;00m x \u001b[39min\u001b[39;00m casted_key)\n\u001b[1;32m   3795\u001b[0m     ):\n\u001b[1;32m   3796\u001b[0m         \u001b[39mraise\u001b[39;00m InvalidIndexError(key)\n\u001b[0;32m-> 3797\u001b[0m     \u001b[39mraise\u001b[39;00m \u001b[39mKeyError\u001b[39;00m(key) \u001b[39mfrom\u001b[39;00m \u001b[39merr\u001b[39;00m\n\u001b[1;32m   3798\u001b[0m \u001b[39mexcept\u001b[39;00m \u001b[39mTypeError\u001b[39;00m:\n\u001b[1;32m   3799\u001b[0m     \u001b[39m# If we have a listlike key, _check_indexing_error will raise\u001b[39;00m\n\u001b[1;32m   3800\u001b[0m     \u001b[39m#  InvalidIndexError. Otherwise we fall through and re-raise\u001b[39;00m\n\u001b[1;32m   3801\u001b[0m     \u001b[39m#  the TypeError.\u001b[39;00m\n\u001b[1;32m   3802\u001b[0m     \u001b[39mself\u001b[39m\u001b[39m.\u001b[39m_check_indexing_error(key)\n",
      "\u001b[0;31mKeyError\u001b[0m: 'test_col'"
     ]
    }
   ],
   "source": [
    "farmer_group1.loc[:,'test_col'] = 1"
   ]
  },
  {
   "cell_type": "code",
   "execution_count": 115,
   "metadata": {},
   "outputs": [
    {
     "data": {
      "text/plain": [
       "Year      owner-id\n",
       "0         0.0         0.0\n",
       "          1.0         0.0\n",
       "          2.0         0.0\n",
       "          3.0         0.0\n",
       "          4.0         0.0\n",
       "                     ... \n",
       "10        796.0       0.0\n",
       "          797.0       0.0\n",
       "          798.0       0.0\n",
       "          799.0       1.0\n",
       "test_col              1.0\n",
       "Name: implements-WSA, Length: 8801, dtype: float64"
      ]
     },
     "execution_count": 115,
     "metadata": {},
     "output_type": "execute_result"
    }
   ],
   "source": [
    "farmer_group1"
   ]
  },
  {
   "cell_type": "code",
   "execution_count": 71,
   "metadata": {},
   "outputs": [
    {
     "data": {
      "text/plain": [
       "{(0, 0.0): [2205, 2214, 2238, 2282, 2292], (0, 1.0): [439], (0, 2.0): [2111, 2148, 2187, 2210], (0, 3.0): [2197, 2215, 2223, 2234, 2250, 2280, 2284], (0, 4.0): [2459, 2475, 2516, 2520], (0, 5.0): [15, 16], (0, 6.0): [2006], (0, 7.0): [1411, 1421, 1442], (0, 8.0): [1450, 1505, 1510], (0, 9.0): [728, 732, 780], (0, 10.0): [1254, 1257, 1305, 1317], (0, 11.0): [2151, 2189, 2203, 2232], (0, 12.0): [1349, 1371, 1372, 1384, 1412], (0, 13.0): [1487, 1527, 1571, 1572], (0, 14.0): [1295, 1310, 1363, 1366], (0, 15.0): [1103, 1142, 1157], (0, 16.0): [1735, 1736], (0, 17.0): [363], (0, 18.0): [825, 827, 868, 923], (0, 19.0): [1399, 1404, 1435, 1464], (0, 20.0): [321, 380, 432], (0, 21.0): [11, 64, 150], (0, 22.0): [1540, 1567], (0, 23.0): [1615, 1635], (0, 24.0): [2000, 2076, 2130], (0, 25.0): [426, 504, 528], (0, 26.0): [991, 1033, 1041], (0, 27.0): [1140, 1188, 1200, 1214, 1250, 1267], (0, 28.0): [553, 555, 571, 602], (0, 29.0): [1667, 1691, 1725], (0, 30.0): [1502, 1580], (0, 31.0): [453, 460, 501, 527, 540], (0, 32.0): [92, 135, 157, 203], (0, 33.0): [854, 894], (0, 34.0): [1229, 1264, 1270], (0, 35.0): [2259, 2276, 2314, 2321, 2326], (0, 36.0): [673, 679, 737], (0, 37.0): [1670], (0, 38.0): [2266, 2291], (0, 39.0): [1790, 1793], (0, 40.0): [675, 680, 735, 761], (0, 41.0): [78, 111, 123, 137, 171, 186], (0, 42.0): [1858], (0, 43.0): [1826, 1836], (0, 44.0): [1808, 1830], (0, 45.0): [2514], (0, 46.0): [430, 463, 539], (0, 47.0): [1531, 1590, 1591, 1626, 1654], (0, 48.0): [2163, 2207, 2235], (0, 49.0): [1765, 1791], (0, 50.0): [1348, 1381], (0, 51.0): [1482], (0, 52.0): [55, 122, 126, 165, 166, 184, 220], (0, 53.0): [2429, 2460], (0, 54.0): [833, 881, 920], (0, 55.0): [2322, 2324, 2391, 2393], (0, 56.0): [216, 271], (0, 57.0): [720, 724, 768, 811, 831], (0, 58.0): [2488], (0, 59.0): [523], (0, 60.0): [1707, 1730], (0, 61.0): [1530, 1569], (0, 62.0): [1901, 1922, 1932, 1987, 2029], (0, 63.0): [409, 419, 444, 479, 507], (0, 64.0): [813, 829], (0, 65.0): [464, 468, 530, 560], (0, 66.0): [153, 160, 200, 222, 242, 252], (0, 67.0): [1278], (0, 68.0): [1028, 1056, 1095], (0, 69.0): [1496, 1563, 1564], (0, 70.0): [565, 629], (0, 71.0): [2269, 2315, 2323, 2382], (0, 72.0): [2358, 2384, 2403, 2407, 2492], (0, 73.0): [511, 548, 592, 594], (0, 74.0): [1889, 1892, 1936, 1976], (0, 75.0): [447, 467, 472, 532, 557], (0, 76.0): [1887, 1908, 1968], (0, 77.0): [843, 896, 899, 931], (0, 78.0): [2144, 2149, 2178, 2230], (0, 79.0): [1233, 1323, 1345], (0, 80.0): [2303, 2335, 2347, 2353, 2402, 2416], (0, 81.0): [1535, 1582, 1655, 1668], (0, 82.0): [742, 763], (0, 83.0): [1807, 1821], (0, 84.0): [1524, 1542, 1575], (0, 85.0): [2247, 2331, 2388], (0, 86.0): [628, 637, 665, 685, 696, 752, 764], (0, 87.0): [922, 966, 975, 988, 995], (0, 88.0): [1132, 1141, 1222, 1253], (0, 89.0): [1269, 1273, 1312], (0, 90.0): [930, 968, 989, 999, 1014, 1024, 1034, 1076], (0, 91.0): [921, 937, 950, 987, 1009, 1018, 1048], (0, 92.0): [1125, 1134, 1143, 1223], (0, 93.0): [192, 239, 288], (0, 94.0): [1685, 1692, 1759], (0, 95.0): [1453], (0, 96.0): [1235], (0, 97.0): [902, 929, 944], (0, 98.0): [2073, 2112, 2118, 2138], (0, 99.0): [2408, 2440], ...}"
      ]
     },
     "execution_count": 71,
     "metadata": {},
     "output_type": "execute_result"
    }
   ],
   "source": [
    "farmer_group.groups"
   ]
  },
  {
   "cell_type": "code",
   "execution_count": 72,
   "metadata": {},
   "outputs": [
    {
     "data": {
      "text/plain": [
       "4806    0.0\n",
       "4815    0.0\n",
       "4839    0.0\n",
       "4883    0.0\n",
       "4893    0.0\n",
       "Name: implements-WSA, dtype: float64"
      ]
     },
     "execution_count": 72,
     "metadata": {},
     "output_type": "execute_result"
    }
   ],
   "source": [
    "farmer_group.get_group((1, 0.0))"
   ]
  },
  {
   "cell_type": "code",
   "execution_count": 86,
   "metadata": {},
   "outputs": [],
   "source": [
    "farmer_group2 = df.groupby(['owner-id'])['implements-WSA']"
   ]
  },
  {
   "cell_type": "code",
   "execution_count": 85,
   "metadata": {},
   "outputs": [
    {
     "data": {
      "text/plain": [
       "owner-id\n",
       "0.0      15.0\n",
       "1.0       0.0\n",
       "2.0      12.0\n",
       "3.0      42.0\n",
       "4.0      12.0\n",
       "         ... \n",
       "795.0    12.0\n",
       "796.0     0.0\n",
       "797.0     0.0\n",
       "798.0     0.0\n",
       "799.0     6.0\n",
       "Name: implements-WSA, Length: 800, dtype: float64"
      ]
     },
     "execution_count": 85,
     "metadata": {},
     "output_type": "execute_result"
    }
   ],
   "source": [
    "farmer_group2"
   ]
  },
  {
   "cell_type": "code",
   "execution_count": 87,
   "metadata": {},
   "outputs": [
    {
     "data": {
      "text/plain": [
       "2205     0.0\n",
       "2214     0.0\n",
       "2238     0.0\n",
       "2282     0.0\n",
       "2292     0.0\n",
       "4806     0.0\n",
       "4815     0.0\n",
       "4839     0.0\n",
       "4883     0.0\n",
       "4893     0.0\n",
       "7407     0.0\n",
       "7416     0.0\n",
       "7440     0.0\n",
       "7484     0.0\n",
       "7494     0.0\n",
       "10008    0.0\n",
       "10017    0.0\n",
       "10041    0.0\n",
       "10085    0.0\n",
       "10095    0.0\n",
       "12609    0.0\n",
       "12618    0.0\n",
       "12642    0.0\n",
       "12686    0.0\n",
       "12696    0.0\n",
       "15210    0.0\n",
       "15219    0.0\n",
       "15243    0.0\n",
       "15287    0.0\n",
       "15297    0.0\n",
       "17811    0.0\n",
       "17820    0.0\n",
       "17844    0.0\n",
       "17888    0.0\n",
       "17898    0.0\n",
       "20412    0.0\n",
       "20421    0.0\n",
       "20445    0.0\n",
       "20489    0.0\n",
       "20499    0.0\n",
       "23013    1.0\n",
       "23022    1.0\n",
       "23046    1.0\n",
       "23090    1.0\n",
       "23100    1.0\n",
       "25614    1.0\n",
       "25623    1.0\n",
       "25647    1.0\n",
       "25691    1.0\n",
       "25701    1.0\n",
       "28215    1.0\n",
       "28224    1.0\n",
       "28248    1.0\n",
       "28292    1.0\n",
       "28302    1.0\n",
       "Name: implements-WSA, dtype: float64"
      ]
     },
     "execution_count": 87,
     "metadata": {},
     "output_type": "execute_result"
    }
   ],
   "source": [
    "farmer_group2.get_group((0.0))"
   ]
  },
  {
   "cell_type": "code",
   "execution_count": 78,
   "metadata": {},
   "outputs": [
    {
     "data": {
      "text/plain": [
       "array([784., 666., 422., 335., 216., 431., 686., 726., 489., 424.,  21.,\n",
       "       702., 669.,   5., 409., 460., 165., 435., 714., 713., 755., 695.,\n",
       "       286., 434., 199., 270., 197.,  52., 545., 487., 111., 584., 379.,\n",
       "       572.,  41., 754., 169., 217., 474., 471.,  32., 334., 343., 219.,\n",
       "       346., 372., 631., 394., 331., 568., 685., 425., 457., 248.,  66.,\n",
       "       785., 542., 226., 442., 291., 731., 752., 490., 118., 748., 629.,\n",
       "       107., 239.,  93., 573., 536., 364., 539., 627., 546., 187., 433.,\n",
       "        56., 338., 237., 351., 265., 194., 152., 309., 355., 190., 773.,\n",
       "       412., 453., 794., 135., 383., 790., 231., 600., 781., 775., 154.,\n",
       "       767., 710., 336., 469., 254., 589., 611., 757., 732., 622., 697.,\n",
       "       758., 786., 240., 392., 192., 498.,  20., 716., 405., 597., 322.,\n",
       "       306., 642., 307., 316., 643., 478., 247., 287., 503., 133., 500.,\n",
       "        17., 166., 277., 173., 241., 308., 579., 377., 110., 606., 532.,\n",
       "       491., 663., 256.,  63., 619., 668., 415., 555., 160., 565.,  25.,\n",
       "       104., 780.,  46., 639.,   1., 621.,  75., 349.,  31., 345., 121.,\n",
       "       430., 727.,  65., 281., 682., 704., 534., 548., 450., 461., 142.,\n",
       "       175., 406., 618.,  73., 443., 123., 715., 750., 302., 289.,  59.,\n",
       "       339., 598., 235., 389.,  28., 263.,  70., 687., 728., 204., 456.,\n",
       "       225., 506., 386., 116., 608., 452., 283., 108., 753., 441., 520.,\n",
       "       674., 778., 380., 106.,  86., 521., 581., 690., 590., 612., 159.,\n",
       "        36.,  40., 587., 540., 510., 112., 105., 398., 143., 749., 124.,\n",
       "       125., 724., 650., 317.,  57.,   9., 205., 147., 788., 689.,  82.,\n",
       "       363., 735., 552., 220., 330., 382., 185., 648., 519., 113., 658.,\n",
       "       161., 585., 593., 799., 196., 580., 310., 744., 708., 332.,  64.,\n",
       "       313., 132., 305., 488., 501., 178.,  18., 601., 117.,  54., 151.,\n",
       "       129.,  77., 591., 186.,  33., 515., 653., 373., 614., 511., 293.,\n",
       "       739., 549., 119., 100.,  97., 756.,  91.,  87., 296., 495.,  90.,\n",
       "       184., 222., 282., 734., 574., 694., 493., 632., 569., 278., 661.,\n",
       "       139.,  26., 324., 464., 429., 400., 659., 368., 725.,  68., 765.,\n",
       "       414., 509., 527., 266., 665., 388., 508., 683., 148., 428., 529.,\n",
       "       191., 171., 480.,  15., 742., 168., 633., 341.,  92., 448., 374.,\n",
       "       353., 789.,  88., 269., 721., 645.,  27., 145., 688., 567., 297.,\n",
       "       556., 318., 514., 479., 655., 295., 743., 180., 292., 402., 417.,\n",
       "       259., 782., 654., 698., 699., 582., 538.,  34., 673.,  79., 447.,\n",
       "        96., 798., 769., 446., 127., 193.,  10., 172., 747., 630.,  89.,\n",
       "       174., 537.,  67., 366., 358., 404., 588., 637., 779., 610., 720.,\n",
       "       179.,  14., 672., 275., 437., 206., 604., 177., 298., 420.,  50.,\n",
       "        12., 733., 416., 201., 360., 356., 475., 703., 544., 507., 300.,\n",
       "       158., 586., 176., 347.,  19., 407., 419.,   7., 768., 102., 628.,\n",
       "       764., 570., 566., 181.,   8.,  95., 729., 326., 352., 290., 413.,\n",
       "       740., 759., 103., 522.,  51., 651., 264., 602., 408.,  13., 709.,\n",
       "       245.,  69., 136., 481.,  30., 492., 267., 233., 793., 741., 513.,\n",
       "        84., 244.,  61.,  47., 737.,  81., 315., 395.,  22., 596., 664.,\n",
       "       626., 396., 365., 183., 227., 681., 512., 476., 321., 763., 236.,\n",
       "       497., 723., 535., 234.,  23., 198., 327., 253., 783., 607., 262.,\n",
       "       397., 357., 776., 362., 140., 499., 229., 526., 796., 325., 156.,\n",
       "       746., 486., 459.,  29., 141.,  37., 243., 403., 432., 138., 494.,\n",
       "        94., 301., 624., 445., 137., 617., 274.,  60., 188., 766., 620.,\n",
       "       319., 246., 644., 329.,  16., 255., 312., 613., 646., 656., 410.,\n",
       "       369., 634., 623., 761.,  49., 559., 797., 211., 751.,  39., 770.,\n",
       "       314., 635.,  83.,  44., 525., 609., 440., 320., 693., 712., 649.,\n",
       "        43., 200., 662., 466., 528., 439., 496., 367., 660., 189., 242.,\n",
       "        42., 467., 376., 149., 323., 705., 215., 551.,  76.,  74., 284.,\n",
       "       157., 342., 426., 455., 272.,  62., 717., 393., 280., 558., 153.,\n",
       "       359., 449., 131., 531., 387., 195., 745., 230., 692., 391., 114.,\n",
       "       182., 232., 458., 337., 423., 348., 285., 228., 344., 657., 465.,\n",
       "       438., 484., 641., 533., 370., 167., 701.,  24., 594., 218., 418.,\n",
       "         6., 616., 155., 541., 599., 706., 249., 595., 401., 678., 502.,\n",
       "       350., 675., 203., 647., 472., 257., 561., 378., 577., 381., 354.,\n",
       "       261., 583., 463.,  98., 294., 605., 209., 576., 210., 684., 101.,\n",
       "       134., 670., 468.,   2., 268., 562., 482., 276., 221., 504., 162.,\n",
       "       523.,  78., 311.,  11., 427.,  48., 328., 676., 636., 603., 730.,\n",
       "       340., 652., 421., 483., 163.,   3., 530., 303., 385.,   0., 213.,\n",
       "       592., 575., 150., 223., 738., 164., 736.,  85., 304., 760., 444.,\n",
       "        35., 361., 128.,  38.,  71., 771., 130.,  80., 470., 707., 553.,\n",
       "       273., 505., 517.,  55., 371., 560., 671., 772., 518., 390., 109.,\n",
       "       462., 122., 563., 251., 399., 564.,  72., 787., 711., 279., 550.,\n",
       "       571., 207., 680., 258., 288., 638., 722., 384., 473., 375.,  99.,\n",
       "       795., 615., 260., 485.,  53., 126., 625., 271., 436., 543.,   4.,\n",
       "       696., 224., 691., 208., 700., 557., 451.,  58., 411., 214., 792.,\n",
       "       454., 667., 554., 238., 719., 299., 252.,  45., 250., 640., 547.,\n",
       "       115., 146., 578., 212., 516., 202., 777., 524., 144., 677., 120.,\n",
       "       477., 762., 333., 679., 718., 774., 170., 791.])"
      ]
     },
     "execution_count": 78,
     "metadata": {},
     "output_type": "execute_result"
    }
   ],
   "source": [
    "df['owner-id'].unique()"
   ]
  },
  {
   "cell_type": "code",
   "execution_count": 79,
   "metadata": {},
   "outputs": [
    {
     "ename": "KeyError",
     "evalue": "0.0",
     "output_type": "error",
     "traceback": [
      "\u001b[0;31m---------------------------------------------------------------------------\u001b[0m",
      "\u001b[0;31mKeyError\u001b[0m                                  Traceback (most recent call last)",
      "File \u001b[0;32m~/miniconda3/envs/landlab/lib/python3.10/site-packages/pandas/core/indexes/base.py:3790\u001b[0m, in \u001b[0;36mIndex.get_loc\u001b[0;34m(self, key)\u001b[0m\n\u001b[1;32m   3789\u001b[0m \u001b[39mtry\u001b[39;00m:\n\u001b[0;32m-> 3790\u001b[0m     \u001b[39mreturn\u001b[39;00m \u001b[39mself\u001b[39;49m\u001b[39m.\u001b[39;49m_engine\u001b[39m.\u001b[39;49mget_loc(casted_key)\n\u001b[1;32m   3791\u001b[0m \u001b[39mexcept\u001b[39;00m \u001b[39mKeyError\u001b[39;00m \u001b[39mas\u001b[39;00m err:\n",
      "File \u001b[0;32mindex.pyx:152\u001b[0m, in \u001b[0;36mpandas._libs.index.IndexEngine.get_loc\u001b[0;34m()\u001b[0m\n",
      "File \u001b[0;32mindex.pyx:181\u001b[0m, in \u001b[0;36mpandas._libs.index.IndexEngine.get_loc\u001b[0;34m()\u001b[0m\n",
      "File \u001b[0;32mpandas/_libs/hashtable_class_helper.pxi:2606\u001b[0m, in \u001b[0;36mpandas._libs.hashtable.Int64HashTable.get_item\u001b[0;34m()\u001b[0m\n",
      "File \u001b[0;32mpandas/_libs/hashtable_class_helper.pxi:2630\u001b[0m, in \u001b[0;36mpandas._libs.hashtable.Int64HashTable.get_item\u001b[0;34m()\u001b[0m\n",
      "\u001b[0;31mKeyError\u001b[0m: 0",
      "\nThe above exception was the direct cause of the following exception:\n",
      "\u001b[0;31mKeyError\u001b[0m                                  Traceback (most recent call last)",
      "Cell \u001b[0;32mIn[79], line 3\u001b[0m\n\u001b[1;32m      1\u001b[0m \u001b[39mfor\u001b[39;00m farmer \u001b[39min\u001b[39;00m df[\u001b[39m'\u001b[39m\u001b[39mowner-id\u001b[39m\u001b[39m'\u001b[39m]\u001b[39m.\u001b[39munique():\n\u001b[1;32m      2\u001b[0m     \u001b[39mfor\u001b[39;00m idx \u001b[39min\u001b[39;00m farmer_group2\u001b[39m.\u001b[39mget_group((farmer)):\n\u001b[0;32m----> 3\u001b[0m         \u001b[39mif\u001b[39;00m (farmer_group2\u001b[39m.\u001b[39;49mget_group((\u001b[39m0.0\u001b[39;49m))[idx] \u001b[39m==\u001b[39m \u001b[39m1.0\u001b[39m) \u001b[39m&\u001b[39m (farmer_group2\u001b[39m.\u001b[39mget_group((\u001b[39m0.0\u001b[39m))[idx\u001b[39m-\u001b[39m\u001b[39m1\u001b[39m] \u001b[39m==\u001b[39m \u001b[39m0.0\u001b[39m):\n\u001b[1;32m      4\u001b[0m             df\u001b[39m.\u001b[39miloc[idx, \u001b[39m'\u001b[39m\u001b[39mconvert\u001b[39m\u001b[39m'\u001b[39m] \u001b[39m=\u001b[39m \u001b[39m1\u001b[39m\n",
      "File \u001b[0;32m~/miniconda3/envs/landlab/lib/python3.10/site-packages/pandas/core/series.py:1040\u001b[0m, in \u001b[0;36mSeries.__getitem__\u001b[0;34m(self, key)\u001b[0m\n\u001b[1;32m   1037\u001b[0m     \u001b[39mreturn\u001b[39;00m \u001b[39mself\u001b[39m\u001b[39m.\u001b[39m_values[key]\n\u001b[1;32m   1039\u001b[0m \u001b[39melif\u001b[39;00m key_is_scalar:\n\u001b[0;32m-> 1040\u001b[0m     \u001b[39mreturn\u001b[39;00m \u001b[39mself\u001b[39;49m\u001b[39m.\u001b[39;49m_get_value(key)\n\u001b[1;32m   1042\u001b[0m \u001b[39m# Convert generator to list before going through hashable part\u001b[39;00m\n\u001b[1;32m   1043\u001b[0m \u001b[39m# (We will iterate through the generator there to check for slices)\u001b[39;00m\n\u001b[1;32m   1044\u001b[0m \u001b[39mif\u001b[39;00m is_iterator(key):\n",
      "File \u001b[0;32m~/miniconda3/envs/landlab/lib/python3.10/site-packages/pandas/core/series.py:1156\u001b[0m, in \u001b[0;36mSeries._get_value\u001b[0;34m(self, label, takeable)\u001b[0m\n\u001b[1;32m   1153\u001b[0m     \u001b[39mreturn\u001b[39;00m \u001b[39mself\u001b[39m\u001b[39m.\u001b[39m_values[label]\n\u001b[1;32m   1155\u001b[0m \u001b[39m# Similar to Index.get_value, but we do not fall back to positional\u001b[39;00m\n\u001b[0;32m-> 1156\u001b[0m loc \u001b[39m=\u001b[39m \u001b[39mself\u001b[39;49m\u001b[39m.\u001b[39;49mindex\u001b[39m.\u001b[39;49mget_loc(label)\n\u001b[1;32m   1158\u001b[0m \u001b[39mif\u001b[39;00m is_integer(loc):\n\u001b[1;32m   1159\u001b[0m     \u001b[39mreturn\u001b[39;00m \u001b[39mself\u001b[39m\u001b[39m.\u001b[39m_values[loc]\n",
      "File \u001b[0;32m~/miniconda3/envs/landlab/lib/python3.10/site-packages/pandas/core/indexes/base.py:3797\u001b[0m, in \u001b[0;36mIndex.get_loc\u001b[0;34m(self, key)\u001b[0m\n\u001b[1;32m   3792\u001b[0m     \u001b[39mif\u001b[39;00m \u001b[39misinstance\u001b[39m(casted_key, \u001b[39mslice\u001b[39m) \u001b[39mor\u001b[39;00m (\n\u001b[1;32m   3793\u001b[0m         \u001b[39misinstance\u001b[39m(casted_key, abc\u001b[39m.\u001b[39mIterable)\n\u001b[1;32m   3794\u001b[0m         \u001b[39mand\u001b[39;00m \u001b[39many\u001b[39m(\u001b[39misinstance\u001b[39m(x, \u001b[39mslice\u001b[39m) \u001b[39mfor\u001b[39;00m x \u001b[39min\u001b[39;00m casted_key)\n\u001b[1;32m   3795\u001b[0m     ):\n\u001b[1;32m   3796\u001b[0m         \u001b[39mraise\u001b[39;00m InvalidIndexError(key)\n\u001b[0;32m-> 3797\u001b[0m     \u001b[39mraise\u001b[39;00m \u001b[39mKeyError\u001b[39;00m(key) \u001b[39mfrom\u001b[39;00m \u001b[39merr\u001b[39;00m\n\u001b[1;32m   3798\u001b[0m \u001b[39mexcept\u001b[39;00m \u001b[39mTypeError\u001b[39;00m:\n\u001b[1;32m   3799\u001b[0m     \u001b[39m# If we have a listlike key, _check_indexing_error will raise\u001b[39;00m\n\u001b[1;32m   3800\u001b[0m     \u001b[39m#  InvalidIndexError. Otherwise we fall through and re-raise\u001b[39;00m\n\u001b[1;32m   3801\u001b[0m     \u001b[39m#  the TypeError.\u001b[39;00m\n\u001b[1;32m   3802\u001b[0m     \u001b[39mself\u001b[39m\u001b[39m.\u001b[39m_check_indexing_error(key)\n",
      "\u001b[0;31mKeyError\u001b[0m: 0.0"
     ]
    }
   ],
   "source": [
    "for farmer in df['owner-id'].unique():\n",
    "    for idx in farmer_group2.get_group((farmer)):\n",
    "        if (farmer_group2.get_group(farmer))[idx] == 1.0) & (farmer_group2.get_group(farmer)[idx-1] == 0.0):\n",
    "            df.iloc[idx, 'convert'] = 1"
   ]
  },
  {
   "cell_type": "code",
   "execution_count": 51,
   "metadata": {},
   "outputs": [
    {
     "data": {
      "text/plain": [
       "who                     2601\n",
       "xcor                      51\n",
       "ycor                      51\n",
       "owner-id                 800\n",
       "implements-WSA             2\n",
       "yield                  16249\n",
       "Year                      11\n",
       "Lead Farmers               1\n",
       "Desperation                1\n",
       "Jealousy                   1\n",
       "Grace Period Length        1\n",
       "UniqueID                   1\n",
       "dtype: int64"
      ]
     },
     "execution_count": 51,
     "metadata": {},
     "output_type": "execute_result"
    }
   ],
   "source": [
    "df.nunique()#"
   ]
  },
  {
   "cell_type": "code",
   "execution_count": 52,
   "metadata": {},
   "outputs": [
    {
     "data": {
      "text/plain": [
       "8800"
      ]
     },
     "execution_count": 52,
     "metadata": {},
     "output_type": "execute_result"
    }
   ],
   "source": [
    "len(farmer_group)"
   ]
  },
  {
   "cell_type": "code",
   "execution_count": null,
   "metadata": {},
   "outputs": [],
   "source": []
  }
 ],
 "metadata": {
  "kernelspec": {
   "display_name": "landlab",
   "language": "python",
   "name": "python3"
  },
  "language_info": {
   "codemirror_mode": {
    "name": "ipython",
    "version": 3
   },
   "file_extension": ".py",
   "mimetype": "text/x-python",
   "name": "python",
   "nbconvert_exporter": "python",
   "pygments_lexer": "ipython3",
   "version": "3.10.13"
  },
  "orig_nbformat": 4
 },
 "nbformat": 4,
 "nbformat_minor": 2
}
