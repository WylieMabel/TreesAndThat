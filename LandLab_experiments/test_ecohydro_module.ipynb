{
 "cells": [
  {
   "cell_type": "markdown",
   "metadata": {},
   "source": [
    "# Test our Ecohydrology module\n",
    "\n",
    "This notebook is to test that importing and using our implementation of the Ecohydrology model works. "
   ]
  },
  {
   "cell_type": "code",
   "execution_count": 1,
   "metadata": {},
   "outputs": [],
   "source": [
    "from ecohydr_mod import EcoHyd\n",
    "import numpy as np"
   ]
  },
  {
   "cell_type": "code",
   "execution_count": 2,
   "metadata": {},
   "outputs": [
    {
     "ename": "FieldError",
     "evalue": "Unable to add the field, 'rainfall__flux', to the group, 'grid', because a field with that name already exists in that group. Use `clobber=True` to replace the existing field. For example, grid.add_field('rainfall__flux', at='grid', clobber=True)",
     "output_type": "error",
     "traceback": [
      "\u001b[0;31m---------------------------------------------------------------------------\u001b[0m",
      "\u001b[0;31mFieldError\u001b[0m                                Traceback (most recent call last)",
      "\u001b[1;32m/Users/mabelwylie/Documents/NetLogo-MOSS-Python/CouplingRepo/TreesAndThat/LandLab_experiments/test_ecohydro_module.ipynb Cell 3\u001b[0m line \u001b[0;36m3\n\u001b[1;32m      <a href='vscode-notebook-cell:/Users/mabelwylie/Documents/NetLogo-MOSS-Python/CouplingRepo/TreesAndThat/LandLab_experiments/test_ecohydro_module.ipynb#W2sZmlsZQ%3D%3D?line=0'>1</a>\u001b[0m WSA_array \u001b[39m=\u001b[39m np\u001b[39m.\u001b[39mzeros((\u001b[39m101\u001b[39m,\u001b[39m101\u001b[39m))\n\u001b[0;32m----> <a href='vscode-notebook-cell:/Users/mabelwylie/Documents/NetLogo-MOSS-Python/CouplingRepo/TreesAndThat/LandLab_experiments/test_ecohydro_module.ipynb#W2sZmlsZQ%3D%3D?line=2'>3</a>\u001b[0m Ecohyd_model \u001b[39m=\u001b[39m EcoHyd(WSA_array\u001b[39m=\u001b[39;49mWSA_array)\n",
      "File \u001b[0;32m~/Documents/NetLogo-MOSS-Python/CouplingRepo/TreesAndThat/LandLab_experiments/ecohydr_mod.py:79\u001b[0m, in \u001b[0;36mEcoHyd.__init__\u001b[0;34m(self, WSA_array)\u001b[0m\n\u001b[1;32m     64\u001b[0m                                                                                             \u001b[39m# this name in order for components to be \u001b[39;00m\n\u001b[1;32m     65\u001b[0m                                                                                             \u001b[39m# able to work with it.\u001b[39;00m\n\u001b[1;32m     66\u001b[0m \n\u001b[0;32m   (...)\u001b[0m\n\u001b[1;32m     74\u001b[0m \u001b[39m# LandLab distribution, and add a 'clobber=True' statement to the self.grid.add_field() call in L185 \u001b[39;00m\n\u001b[1;32m     75\u001b[0m \u001b[39m# (this becomes more obvious if you run the cell and look at the error message).\u001b[39;00m\n\u001b[1;32m     76\u001b[0m \u001b[39mself\u001b[39m\u001b[39m.\u001b[39mPD_D \u001b[39m=\u001b[39m PrecipitationDistribution(\u001b[39mself\u001b[39m\u001b[39m.\u001b[39mmg, mean_storm_duration\u001b[39m=\u001b[39m\u001b[39mself\u001b[39m\u001b[39m.\u001b[39mconfig[\u001b[39m'\u001b[39m\u001b[39mmean_storm_dry\u001b[39m\u001b[39m'\u001b[39m], mean_interstorm_duration\u001b[39m=\u001b[39m\u001b[39mself\u001b[39m\u001b[39m.\u001b[39mconfig[\u001b[39m'\u001b[39m\u001b[39mmean_interstorm_dry\u001b[39m\u001b[39m'\u001b[39m],\n\u001b[1;32m     77\u001b[0m                                 mean_storm_depth\u001b[39m=\u001b[39m\u001b[39m0.5\u001b[39m, total_t\u001b[39m=\u001b[39m\u001b[39m40\u001b[39m)\n\u001b[0;32m---> 79\u001b[0m \u001b[39mself\u001b[39m\u001b[39m.\u001b[39mPD_W \u001b[39m=\u001b[39m PrecipitationDistribution(\u001b[39mself\u001b[39;49m\u001b[39m.\u001b[39;49mmg, mean_storm_duration\u001b[39m=\u001b[39;49m\u001b[39mself\u001b[39;49m\u001b[39m.\u001b[39;49mconfig[\u001b[39m'\u001b[39;49m\u001b[39mmean_storm_wet\u001b[39;49m\u001b[39m'\u001b[39;49m], mean_interstorm_duration\u001b[39m=\u001b[39;49m\u001b[39mself\u001b[39;49m\u001b[39m.\u001b[39;49mconfig[\u001b[39m'\u001b[39;49m\u001b[39mmean_interstorm_wet\u001b[39;49m\u001b[39m'\u001b[39;49m],\n\u001b[1;32m     80\u001b[0m                                 mean_storm_depth\u001b[39m=\u001b[39;49m\u001b[39m0.5\u001b[39;49m, total_t\u001b[39m=\u001b[39;49m\u001b[39m325\u001b[39;49m)\n\u001b[1;32m     82\u001b[0m \u001b[39m#if we choose this way of assigning precipitation, there should then be a `rainfall__flux` field on our grid, although I am not sure \u001b[39;00m\n\u001b[1;32m     83\u001b[0m \u001b[39m#how to access it as it is added to the entire grid rather than individual nodes.\u001b[39;00m\n\u001b[1;32m     84\u001b[0m \u001b[39m#'''\u001b[39;00m\n\u001b[1;32m     86\u001b[0m \u001b[39m\u001b[39m\u001b[39m'''\u001b[39;00m\n\u001b[1;32m     87\u001b[0m \u001b[39mPD_D = PrecipitationDistribution(mean_storm_duration=config['mean_storm_dry'], mean_interstorm_duration=config['mean_interstorm_dry'],\u001b[39;00m\n\u001b[1;32m     88\u001b[0m \u001b[39m                                mean_storm_depth=0.5, total_t=40)\u001b[39;00m\n\u001b[0;32m   (...)\u001b[0m\n\u001b[1;32m     91\u001b[0m \u001b[39m                                mean_storm_depth=0.5, total_t=325)\u001b[39;00m\n\u001b[1;32m     92\u001b[0m \u001b[39m'''\u001b[39;00m\n",
      "File \u001b[0;32m/opt/homebrew/lib/python3.11/site-packages/landlab/components/uniform_precip/generate_uniform_precip.py:199\u001b[0m, in \u001b[0;36mPrecipitationDistribution.__init__\u001b[0;34m(self, grid, mean_storm_duration, mean_interstorm_duration, mean_storm_depth, total_t, delta_t, random_seed)\u001b[0m\n\u001b[1;32m    197\u001b[0m \u001b[39m# build LL fields, if a grid is supplied:\u001b[39;00m\n\u001b[1;32m    198\u001b[0m \u001b[39mif\u001b[39;00m grid \u001b[39mis\u001b[39;00m \u001b[39mnot\u001b[39;00m \u001b[39mNone\u001b[39;00m:\n\u001b[0;32m--> 199\u001b[0m     \u001b[39mself\u001b[39;49m\u001b[39m.\u001b[39;49mgrid\u001b[39m.\u001b[39;49madd_field(\u001b[39m\"\u001b[39;49m\u001b[39mrainfall__flux\u001b[39;49m\u001b[39m\"\u001b[39;49m, \u001b[39m0.0\u001b[39;49m, at\u001b[39m=\u001b[39;49m\u001b[39m\"\u001b[39;49m\u001b[39mgrid\u001b[39;49m\u001b[39m\"\u001b[39;49m)\n\u001b[1;32m    200\u001b[0m     \u001b[39mself\u001b[39m\u001b[39m.\u001b[39m_gridupdate \u001b[39m=\u001b[39m \u001b[39mTrue\u001b[39;00m\n\u001b[1;32m    201\u001b[0m \u001b[39melse\u001b[39;00m:\n",
      "File \u001b[0;32m/opt/homebrew/lib/python3.11/site-packages/landlab/field/graph_field.py:1173\u001b[0m, in \u001b[0;36mGraphFields.add_field\u001b[0;34m(self, *args, **kwds)\u001b[0m\n\u001b[1;32m   1170\u001b[0m ds \u001b[39m=\u001b[39m \u001b[39mgetattr\u001b[39m(\u001b[39mself\u001b[39m, \u001b[39m\"\u001b[39m\u001b[39mat_\u001b[39m\u001b[39m\"\u001b[39m \u001b[39m+\u001b[39m at)\n\u001b[1;32m   1172\u001b[0m \u001b[39mif\u001b[39;00m \u001b[39mnot\u001b[39;00m clobber \u001b[39mand\u001b[39;00m name \u001b[39min\u001b[39;00m ds:\n\u001b[0;32m-> 1173\u001b[0m     \u001b[39mraise\u001b[39;00m FieldError(\n\u001b[1;32m   1174\u001b[0m         \u001b[39mf\u001b[39m\u001b[39m\"\u001b[39m\u001b[39mUnable to add the field, \u001b[39m\u001b[39m{\u001b[39;00mname\u001b[39m!r}\u001b[39;00m\u001b[39m, to the group, \u001b[39m\u001b[39m{\u001b[39;00mat\u001b[39m!r}\u001b[39;00m\u001b[39m, because a \u001b[39m\u001b[39m\"\u001b[39m\n\u001b[1;32m   1175\u001b[0m         \u001b[39m\"\u001b[39m\u001b[39mfield with that name already exists in that group. \u001b[39m\u001b[39m\"\u001b[39m\n\u001b[1;32m   1176\u001b[0m         \u001b[39m\"\u001b[39m\u001b[39mUse `clobber=True` to replace the existing field. \u001b[39m\u001b[39m\"\u001b[39m\n\u001b[1;32m   1177\u001b[0m         \u001b[39mf\u001b[39m\u001b[39m\"\u001b[39m\u001b[39mFor example, grid.add_field(\u001b[39m\u001b[39m{\u001b[39;00mname\u001b[39m!r}\u001b[39;00m\u001b[39m, at=\u001b[39m\u001b[39m{\u001b[39;00mat\u001b[39m!r}\u001b[39;00m\u001b[39m, clobber=True)\u001b[39m\u001b[39m\"\u001b[39m\n\u001b[1;32m   1178\u001b[0m     )\n\u001b[1;32m   1180\u001b[0m dims \u001b[39m=\u001b[39m (at,)\n\u001b[1;32m   1181\u001b[0m \u001b[39mif\u001b[39;00m value_array\u001b[39m.\u001b[39mndim \u001b[39m>\u001b[39m \u001b[39m1\u001b[39m:\n",
      "\u001b[0;31mFieldError\u001b[0m: Unable to add the field, 'rainfall__flux', to the group, 'grid', because a field with that name already exists in that group. Use `clobber=True` to replace the existing field. For example, grid.add_field('rainfall__flux', at='grid', clobber=True)"
     ]
    }
   ],
   "source": [
    "WSA_array = np.zeros((101,101))\n",
    "\n",
    "Ecohyd_model = EcoHyd(WSA_array=WSA_array)"
   ]
  },
  {
   "cell_type": "code",
   "execution_count": 3,
   "metadata": {},
   "outputs": [],
   "source": [
    "Ecohyd_model.stepper()"
   ]
  },
  {
   "cell_type": "code",
   "execution_count": null,
   "metadata": {},
   "outputs": [],
   "source": []
  }
 ],
 "metadata": {
  "kernelspec": {
   "display_name": "py311",
   "language": "python",
   "name": "python3"
  },
  "language_info": {
   "codemirror_mode": {
    "name": "ipython",
    "version": 3
   },
   "file_extension": ".py",
   "mimetype": "text/x-python",
   "name": "python",
   "nbconvert_exporter": "python",
   "pygments_lexer": "ipython3",
   "version": "3.11.6"
  }
 },
 "nbformat": 4,
 "nbformat_minor": 2
}
