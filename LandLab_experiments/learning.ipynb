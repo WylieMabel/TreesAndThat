{
 "cells": [
  {
   "cell_type": "markdown",
   "metadata": {},
   "source": [
    "# LandLab Learning\n",
    "\n",
    "This notebook is for investigating and getting used to the LandLab Python package for hydrology modelling.\n",
    "\n",
    "I will broadly follow the guide on https://landlab.readthedocs.io/en/latest/user_guide"
   ]
  },
  {
   "cell_type": "code",
   "execution_count": 1,
   "metadata": {},
   "outputs": [],
   "source": [
    "import numpy as np\n",
    "import landlab as ldlb\n",
    "import matplotlib.pyplot as plt"
   ]
  },
  {
   "cell_type": "markdown",
   "metadata": {},
   "source": [
    "## Set up a model grid\n",
    "\n",
    "... and add an idealised quadratic elevation profile to it, mimicking a valley."
   ]
  },
  {
   "cell_type": "code",
   "execution_count": 2,
   "metadata": {},
   "outputs": [],
   "source": [
    "from landlab import RasterModelGrid"
   ]
  },
  {
   "cell_type": "code",
   "execution_count": 19,
   "metadata": {},
   "outputs": [
    {
     "data": {
      "text/plain": [
       "array([ 2601.,  2500.,  2401., ...,  2405.,  2502.,  2601.])"
      ]
     },
     "execution_count": 19,
     "metadata": {},
     "output_type": "execute_result"
    }
   ],
   "source": [
    "#set up 40x40 grid\n",
    "mg = RasterModelGrid((102, 102), 5.)\n",
    "\n",
    "#let's try to add an idealised elevation profile to this grid.\n",
    "valley = np.zeros((102,102))\n",
    "\n",
    "def valleyfunc(x, y):\n",
    "    e = (x-51)**2 + y\n",
    "    return e\n",
    "\n",
    "for x in np.arange(0, 102, 1):\n",
    "    for y in np.arange(0, 102, 1):\n",
    "        valley[y][x] = valleyfunc(x,y)\n",
    "\n",
    "mg.add_field(\"topographic__elevation\", valley, at=\"node\", units=\"m\", copy=True, clobber=True) # The elevation field needs to have exactly \n",
    "                                                                                              # this name in order for components to be \n",
    "                                                                                              # able to work with it."
   ]
  },
  {
   "cell_type": "code",
   "execution_count": 20,
   "metadata": {},
   "outputs": [
    {
     "data": {
      "image/png": "[encoded data removed]",
      "text/plain": [
       "<Figure size 640x480 with 2 Axes>"
      ]
     },
     "metadata": {},
     "output_type": "display_data"
    }
   ],
   "source": [
    "from landlab.plot.imshow import imshow_grid_at_node\n",
    "#N.B. the Landlab user guide tells you to import the wrong component here\n",
    "\n",
    "plt.figure('Elevations from the field')  # new fig, with a name\n",
    "imshow_grid_at_node(mg, 'topographic__elevation') \n",
    "plt.show()"
   ]
  },
  {
   "cell_type": "markdown",
   "metadata": {},
   "source": [
    "Note that the vegetation is set up at the 'cell' level, while the elevation is set at the 'node' level. Nodes are the cell centres (meaning there is a well-defined way to calculate gradients between values at nodes of neighbouring cells), while 'cell' data lives uniformly across the entire volume of the cell. On a grid, there are fewer cells than nodes: the boundary rows do not count as cells.\n",
    "\n",
    "For us, this probably means we want our Landlab grid to be two nodes larger in $x$ and $y$ than our NetLogo grid: This means they have the same number of cells, but the Landlab grid also has an additional rim of nodes around the outside that we can set boundary conditions on."
   ]
  },
  {
   "cell_type": "markdown",
   "metadata": {},
   "source": [
    "I now want to start trying to reproduce some of what Zhou et al. (2013) did - this means trying to match the Landlab components they added to the description in the paper and accompanying Jupyter notebook.\n",
    "\n",
    "First, we import the required modules:\n",
    " - Vegetation: Model plant dynamics using multiple representative plant species. Landlab component that simulates net primary productivity, biomass and leaf area index at each cell based on inputs of root-zone average soil moisture. https://landlab.readthedocs.io/en/latest/reference/components/vegetation_dynamics.html\n",
    " - SoilMoisture: Compute the decay of soil moisture saturation at storm-interstorm time period. Landlab component that simulates root-zone average soil moisture at each cell using inputs of potential evapotranspiration, live leaf area index, and vegetation cover. https://landlab.readthedocs.io/en/latest/reference/components/soil_moisture.html\n",
    " - Radiation: Calculate solar radiation on topography given latitude, date, and time. Landlab component that computes 1D and 2D total incident shortwave radiation. This code also computes relative incidence shortwave radiation compared to a flat surface. https://landlab.readthedocs.io/en/latest/reference/components/radiation.html\n",
    " - PotentialEvapotranspiration: Compute potential evapotranspiration. Component calculates spatially distributed potential evapotranspiration based on input radiation factor (spatial distribution of incoming radiation) using chosen method such as constant or Priestley Taylor. https://landlab.readthedocs.io/en/latest/reference/components/pet.html#landlab.components.pet.potential_evapotranspiration_field.PotentialEvapotranspiration\n",
    " - PrecipitationDistribution: Generate random sequence of precipitation events. This component can generate a random storm duration, interstorm duration, precipitation intensity or storm depth from a Poisson distribution when given a mean value. https://landlab.readthedocs.io/en/latest/reference/components/uniform_precip.html . I don't know if we want to use this component for our model - it seems most suited to climates where precipitation occurs mostly in intense storms that are few and far between - i.e., dry savanna. This is likely not the case for the area we are trying to model, where I expect we have rainfall quite frequently outside the Canicula dry period.\n",
    " "
   ]
  },
  {
   "cell_type": "code",
   "execution_count": 21,
   "metadata": {},
   "outputs": [],
   "source": [
    "from landlab.components import Vegetation\n",
    "from landlab.components import SoilMoisture\n",
    "from landlab.components import Radiation\n",
    "from landlab.components import PotentialEvapotranspiration\n",
    "from landlab.components import PrecipitationDistribution"
   ]
  },
  {
   "cell_type": "markdown",
   "metadata": {},
   "source": [
    "Our mission statement: Receive land cover input, give soil moisture/biomass growth output\n",
    "\n",
    "For our initial toy model, let's use what's already there and make use of the PrecipitationDistribution component to generate our rainfall time series, and make our time step based on that.\n",
    "\n",
    "First, we make a configuration file to specify a few key variables."
   ]
  },
  {
   "cell_type": "code",
   "execution_count": 22,
   "metadata": {},
   "outputs": [],
   "source": [
    "config = {\n",
    "    # assume Canicula starts on 1st of July and lasts for 40 days\n",
    "    'canicula_start':182,\n",
    "    'canicula_end':223, \n",
    "    # I pulled the following out of my behind, need to check with local climatology if this is sensible\n",
    "    'mean_interstorm_wet':5,\n",
    "    'mean_storm_wet':2,\n",
    "    'mean_interstorm_dry':20,\n",
    "    'mean_storm_dry':2\n",
    "}"
   ]
  },
  {
   "cell_type": "markdown",
   "metadata": {},
   "source": [
    "Calculate number of time steps based on rainfall likelihood and duration as well as desired length of simulation in years"
   ]
  },
  {
   "cell_type": "code",
   "execution_count": 23,
   "metadata": {},
   "outputs": [],
   "source": [
    "n_years = 50  # Approx number of years for model to run\n",
    "# Calculate approximate number of storms per year\n",
    "fraction_dry = (223 - 182) / 365.0 #assume Canicula starts on 1st of July and lasts for 40 days\n",
    "fraction_wet = 1 - fraction_dry\n",
    "no_of_storms_wet = (\n",
    "    365 * (fraction_wet) / (config[\"mean_interstorm_wet\"] + config[\"mean_storm_wet\"])\n",
    ")\n",
    "no_of_storms_dry = (\n",
    "    365 * (fraction_dry) / (config[\"mean_interstorm_dry\"] + config[\"mean_storm_dry\"])\n",
    ")\n",
    "# calculate total number of storms\n",
    "n = int(n_years * (no_of_storms_wet + no_of_storms_dry))"
   ]
  },
  {
   "cell_type": "code",
   "execution_count": 24,
   "metadata": {},
   "outputs": [],
   "source": [
    "'''Set some helper variables that we will need in the main model loop'''\n",
    "# Represent current time in years (N.B. this is a float, so 0.5 would be mid-June of the first model year)\n",
    "current_time = 0  # Start from first day of Jan\n",
    "\n",
    "# declaring few variables that will be used in the storm loop\n",
    "time_check = 0.0  # Buffer to store current_time at previous storm\n",
    "yrs = 0  # Keep track of number of years passed\n",
    "WS = 0.0  # Buffer for Water Stress\n",
    "Tg = 270  # Growing season in days\n"
   ]
  },
  {
   "cell_type": "code",
   "execution_count": 25,
   "metadata": {},
   "outputs": [],
   "source": [
    "#initialise timeseries \n",
    "\n",
    "P = np.zeros(365) #empty array for rainfall\n",
    "Tr = np.zeros(365) #empty array for rainfall event durations\n",
    "Tb = np.zeros(365) #empty array for dry spell durations\n",
    "\n",
    "Time = np.zeros(n) #empty array to record timestamps at which calculations are made in main loop (non-uniform time step length)"
   ]
  },
  {
   "cell_type": "markdown",
   "metadata": {},
   "source": [
    "Now that we have those things out of the way, we generate precipitation events based on the parameters set earlier:"
   ]
  },
  {
   "cell_type": "code",
   "execution_count": 26,
   "metadata": {},
   "outputs": [],
   "source": [
    "'''\n",
    "Commenting this out because it assigns things to the grid. Current implementation needs just an array though.\n",
    "# N.B. to make this (grid-based implementation of precipitation) run, find the 'generate_uniform_precip.py' file in your \n",
    "# LandLab distribution, and add a 'clobber=True' statement to the self.grid.add_field() call in L185 \n",
    "# (this becomes more obvious if you run the cell and look at the error message).\n",
    "PD_D = PrecipitationDistribution(mg, mean_storm_duration=config['mean_storm_dry'], mean_interstorm_duration=config['mean_interstorm_dry'],\n",
    "                                 mean_storm_depth=0.5, total_t=40)\n",
    "\n",
    "PD_W = PrecipitationDistribution(mg, mean_storm_duration=config['mean_storm_wet'], mean_interstorm_duration=config['mean_interstorm_wet'],\n",
    "                                 mean_storm_depth=0.5, total_t=325)\n",
    "\n",
    "if we choose this way of assigning precipitation, there should then be a `rainfall__flux` field on our grid, although I am not sure \n",
    "how to access it as it is added to the entire grid rather than individual nodes.\n",
    "'''\n",
    "\n",
    "PD_D = PrecipitationDistribution(mean_storm_duration=config['mean_storm_dry'], mean_interstorm_duration=config['mean_interstorm_dry'],\n",
    "                                 mean_storm_depth=0.5, total_t=40)\n",
    "\n",
    "PD_W = PrecipitationDistribution(mean_storm_duration=config['mean_storm_wet'], mean_interstorm_duration=config['mean_interstorm_wet'],\n",
    "                                 mean_storm_depth=0.5, total_t=325)\n"
   ]
  },
  {
   "cell_type": "markdown",
   "metadata": {},
   "source": [
    "Our model then also needs an input of radiation, which feeds into the Potential Evapotranspiration calculation. The Radiation component by default assumes a `latitude` of 34 degrees, an `albedo` of 0.2 (might want to alter this depending on surface cover) and a `cloudiness` of 0.2. By default the time of day (`hour`) is set to 12, i.e. midday.\n",
    "Apart from those optional inputs with default values, we have to pass in a `current_time` in years (float), from which it calculates the Julian day and hence the solar Zenith angle to come up with the season-appropriate amount of radiation. We initialise this now and then update with time of year when running the actual model loop.\n"
   ]
  },
  {
   "cell_type": "code",
   "execution_count": 27,
   "metadata": {},
   "outputs": [],
   "source": [
    "rad = Radiation(mg, current_time=current_time)"
   ]
  },
  {
   "cell_type": "markdown",
   "metadata": {},
   "source": [
    "Having set this, we can now initialise the Potential Evapotranspiration field (the amount of water evaporation that would occur if there was unlimited water availability). Upon reading the documentation for this, it seems like this has a calculation of radiation built in, taking a lot of the same inputs - so we might get away without having to use the Radiation component! However, it does need an input of radiation with respect to a flat surface, which is something the Radiation component calculates, so we should probably leave it in if we're to include topography (i.e., sloping fields).\n",
    "\n",
    "We can (and probably should) pass an average, minimum and maximum temperature of the day (`Tavg`, `Tmin`, `Tmax`) into this when using `method = Priestley Taylor`. The Priestley-Taylor equations are a simplified version of the Penman-Monteith Equations for Evapotranspiration - they remove the need for wind observations, replacing aerodynamic effects with an empirical constant.\n",
    "It is also possible to set the method to `cosine` - reading the paper, I think this is a fit of the Penman-Monteith equations to historical weather data from the study area (removing the need for any temperature input, meaning you only have to supply rainfall and slope) and therefore not suitable for us as we are looking at a different climate."
   ]
  },
  {
   "cell_type": "code",
   "execution_count": 29,
   "metadata": {},
   "outputs": [],
   "source": [
    "PET = PotentialEvapotranspiration(mg, current_time=current_time)"
   ]
  },
  {
   "cell_type": "markdown",
   "metadata": {},
   "source": [
    "In the model paper, they only use PET directly when calculating the (soil moisture-limited) evaporation from bare soil. When plants are present, actual evaporation is further moderated by leaf area index and canopy interception capacity (Equation 5). We need to figure out how and where these further calculations are implemented in landlab.\n",
    "\n",
    "Moderation of evaporation by soil moisture in the presence of plants is also dependent on soil saturation degree at hygroscopic capacity, wilting point, and incipient stomata closure as well as actual soil moisture.\n",
    "\n",
    "Soil moisture in the model is calculated from rain influx minus leakage from root zone minus surface runoff. Surface runoff and percolation depend on ground cover, soil saturation and soil properties. The soil infiltration capacity is moderated by the presence of plants (model equations 1 to 4).\n",
    "\n",
    "(side note: generally (from looking at the equations and their descriptions), I get the impression that in this model, the presence of vegetation increases evaporation and decreases the capacity of the soil to absorb new water. This seems contrary to the behaviour we expect. We might need to do some fudging to make presence of plants, e.g., limit the leakage of water from the root zone - but to do this fudging sensibly, we need to read more of the literature on ecohydrology). We could make this capacity of the soil to retain moisture depend on both live and dead root biomass that can hopefully be output from the vegetation dynamics component (equation 11).\n",
    "\n",
    "Mean soil moisture (I am not too sure how long they average for!) along with wilting point and incipient stomata closure can then be used to calculate water stress (Equation 15)."
   ]
  },
  {
   "cell_type": "markdown",
   "metadata": {},
   "source": [
    "Finally, we can then also define plant productivity. "
   ]
  },
  {
   "cell_type": "code",
   "execution_count": 15,
   "metadata": {},
   "outputs": [
    {
     "ename": "NameError",
     "evalue": "name 'PET_' is not defined",
     "output_type": "error",
     "traceback": [
      "\u001b[0;31m---------------------------------------------------------------------------\u001b[0m",
      "\u001b[0;31mNameError\u001b[0m                                 Traceback (most recent call last)",
      "\u001b[1;32m/Users/benjaminbuchenau/Documents/GitHub/TreesAndThat/LandLab_experiments/learning.ipynb Cell 19\u001b[0m line \u001b[0;36m2\n\u001b[1;32m     <a href='vscode-notebook-cell:/Users/benjaminbuchenau/Documents/GitHub/TreesAndThat/LandLab_experiments/learning.ipynb#X23sZmlsZQ%3D%3D?line=19'>20</a>\u001b[0m     Tb[i] \u001b[39m=\u001b[39m PD_W\u001b[39m.\u001b[39minterstorm_duration\n\u001b[1;32m     <a href='vscode-notebook-cell:/Users/benjaminbuchenau/Documents/GitHub/TreesAndThat/LandLab_experiments/learning.ipynb#X23sZmlsZQ%3D%3D?line=21'>22</a>\u001b[0m \u001b[39m# Spatially distribute PET and its 30-day-mean (analogous to degree day)\u001b[39;00m\n\u001b[0;32m---> <a href='vscode-notebook-cell:/Users/benjaminbuchenau/Documents/GitHub/TreesAndThat/LandLab_experiments/learning.ipynb#X23sZmlsZQ%3D%3D?line=22'>23</a>\u001b[0m grid[\u001b[39m\"\u001b[39m\u001b[39mcell\u001b[39m\u001b[39m\"\u001b[39m][\u001b[39m\"\u001b[39m\u001b[39msurface__potential_evapotranspiration_rate\u001b[39m\u001b[39m\"\u001b[39m] \u001b[39m=\u001b[39m PET_[Julian]\n\u001b[1;32m     <a href='vscode-notebook-cell:/Users/benjaminbuchenau/Documents/GitHub/TreesAndThat/LandLab_experiments/learning.ipynb#X23sZmlsZQ%3D%3D?line=23'>24</a>\u001b[0m grid[\u001b[39m\"\u001b[39m\u001b[39mcell\u001b[39m\u001b[39m\"\u001b[39m][\u001b[39m\"\u001b[39m\u001b[39msurface__potential_evapotranspiration_30day_mean\u001b[39m\u001b[39m\"\u001b[39m] \u001b[39m=\u001b[39m EP30[Julian]\n\u001b[1;32m     <a href='vscode-notebook-cell:/Users/benjaminbuchenau/Documents/GitHub/TreesAndThat/LandLab_experiments/learning.ipynb#X23sZmlsZQ%3D%3D?line=25'>26</a>\u001b[0m \u001b[39m# Assign spatial rainfall data\u001b[39;00m\n",
      "\u001b[0;31mNameError\u001b[0m: name 'PET_' is not defined"
     ]
    }
   ],
   "source": [
    "# # Run storm Loop\n",
    "for i in range(0, n):\n",
    "    # Update objects\n",
    "\n",
    "    # Calculate Day of Year (DOY)\n",
    "    Julian = int(np.floor((current_time - np.floor(current_time)) * 365.0))\n",
    "\n",
    "    # Generate seasonal storms\n",
    "    # for Dry season\n",
    "    if Julian < config['canicula_end'] or Julian > config['canicula_start']: \n",
    "        PD_D.update()\n",
    "        P[i] = PD_D.storm_depth\n",
    "        Tr[i] = PD_D.storm_duration\n",
    "        Tb[i] = PD_D.interstorm_duration\n",
    "    # Wet Season \n",
    "    else:\n",
    "        PD_W.update()\n",
    "        P[i] = PD_W.storm_depth\n",
    "        Tr[i] = PD_W.storm_duration\n",
    "        Tb[i] = PD_W.interstorm_duration\n",
    "\n",
    "    # calculate radiation for each field based on day of the year\n",
    "    #rad.current_time = current_time\n",
    "    #rad.update()\n",
    "\n",
    "    # Spatially distribute PET and its 30-day-mean (analogous to degree day)\n",
    "    #mg[\"cell\"][\"surface__potential_evapotranspiration_rate\"] = PET_[Julian]\n",
    "    #mg[\"cell\"][\"surface__potential_evapotranspiration_30day_mean\"] = EP30[Julian]\n",
    "\n",
    "    # calculate PET for each field based on day of the year\n",
    "    PET.current_time = current_time\n",
    "    PET.update()\n",
    "\n",
    "    # Assign spatial rainfall data\n",
    "    mg[\"cell\"][\"rainfall__daily_depth\"] = P[i] * np.ones(mg.number_of_cells)\n",
    "\n",
    "    # Update soil moisture component\n",
    "    current_time = SM.update(current_time, Tr=Tr[i], Tb=Tb[i])\n",
    "\n",
    "    # Decide whether its growing season or not\n",
    "    if Julian != 364:\n",
    "        if EP30[Julian + 1, 0] > EP30[Julian, 0]:\n",
    "            PET_threshold = 1\n",
    "            # 1 corresponds to ETThresholdup (begin growing season)\n",
    "        else:\n",
    "            PET_threshold = 0\n",
    "            # 0 corresponds to ETThresholddown (end growing season)\n",
    "\n",
    "    # Update vegetation component\n",
    "    VEG.update(PETThreshold_switch=PET_threshold, Tb=Tb[i], Tr=Tr[i])\n",
    "\n",
    "    # Update yearly cumulative water stress data\n",
    "    WS += (grid[\"cell\"][\"vegetation__water_stress\"]) * Tb[i] / 24.0\n",
    "\n",
    "    # Record time (optional)\n",
    "    Time[i] = current_time\n",
    "\n",
    "    # Update spatial PFTs with Cellular Automata rules\n",
    "    if (current_time - time_check) >= 1.0:\n",
    "        if yrs % 100 == 0:\n",
    "            print(f\"Elapsed time = {yrs} years\")\n",
    "        VegType[yrs] = grid1[\"cell\"][\"vegetation__plant_functional_type\"]\n",
    "        WS_ = np.choose(VegType[yrs], WS)\n",
    "        grid1[\"cell\"][\"vegetation__cumulative_water_stress\"] = WS_ / Tg\n",
    "        vegca.update()\n",
    "        time_check = current_time\n",
    "        WS = 0\n",
    "        yrs += 1\n",
    "\n",
    "VegType[yrs] = grid1[\"cell\"][\"vegetation__plant_functional_type\"]"
   ]
  },
  {
   "cell_type": "code",
   "execution_count": null,
   "metadata": {},
   "outputs": [],
   "source": []
  }
 ],
 "metadata": {
  "kernelspec": {
   "display_name": "py311",
   "language": "python",
   "name": "python3"
  },
  "language_info": {
   "codemirror_mode": {
    "name": "ipython",
    "version": 3
   },
   "file_extension": ".py",
   "mimetype": "text/x-python",
   "name": "python",
   "nbconvert_exporter": "python",
   "pygments_lexer": "ipython3",
   "version": "3.11.5"
  }
 },
 "nbformat": 4,
 "nbformat_minor": 2
}
