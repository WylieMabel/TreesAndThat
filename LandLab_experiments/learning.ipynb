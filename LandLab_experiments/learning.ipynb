{
 "cells": [
  {
   "cell_type": "markdown",
   "metadata": {},
   "source": [
    "# LandLab Learning\n",
    "\n",
    "This notebook is for investigating and getting used to the LandLab Python package for hydrology modelling.\n",
    "\n",
    "I will broadly follow the guide on https://landlab.readthedocs.io/en/latest/user_guide"
   ]
  },
  {
   "cell_type": "code",
   "execution_count": 1,
   "metadata": {},
   "outputs": [],
   "source": [
    "import numpy as np\n",
    "import landlab as ldlb\n",
    "import matplotlib.pyplot as plt"
   ]
  },
  {
   "cell_type": "markdown",
   "metadata": {},
   "source": [
    "## Set up a model grid\n",
    "\n",
    "... and add an idealised quadratic elevation profile to it, mimicking a valley."
   ]
  },
  {
   "cell_type": "code",
   "execution_count": 2,
   "metadata": {},
   "outputs": [],
   "source": [
    "from landlab import RasterModelGrid"
   ]
  },
  {
   "cell_type": "code",
   "execution_count": 15,
   "metadata": {},
   "outputs": [
    {
     "data": {
      "text/plain": [
       "array([ 2601.,  2500.,  2401., ...,  2405.,  2502.,  2601.])"
      ]
     },
     "execution_count": 15,
     "metadata": {},
     "output_type": "execute_result"
    }
   ],
   "source": [
    "#set up 40x40 grid\n",
    "mg = RasterModelGrid((102, 102), 5.)\n",
    "\n",
    "#let's try to add an idealised elevation profile to this grid.\n",
    "valley = np.zeros((102,102))\n",
    "\n",
    "def valleyfunc(x, y):\n",
    "    e = (x-51)**2 + y\n",
    "    return e\n",
    "\n",
    "for x in np.arange(0, 102, 1):\n",
    "    for y in np.arange(0, 102, 1):\n",
    "        valley[y][x] = valleyfunc(x,y)\n",
    "\n",
    "mg.add_field(\"elevation\", valley, at=\"node\", units=\"m\", copy=True, clobber=True)"
   ]
  },
  {
   "cell_type": "code",
   "execution_count": 16,
   "metadata": {},
   "outputs": [
    {
     "data": {
      "image/png": "[encoded data removed]",
      "text/plain": [
       "<Figure size 640x480 with 2 Axes>"
      ]
     },
     "metadata": {},
     "output_type": "display_data"
    }
   ],
   "source": [
    "from landlab.plot.imshow import imshow_grid_at_node\n",
    "#N.B. the Landlab user guide tells you to import the wrong component here\n",
    "\n",
    "plt.figure('Elevations from the field')  # new fig, with a name\n",
    "imshow_grid_at_node(mg, 'elevation')\n",
    "plt.show()"
   ]
  },
  {
   "cell_type": "markdown",
   "metadata": {},
   "source": [
    "We can also add some vegetation:"
   ]
  },
  {
   "cell_type": "code",
   "execution_count": 17,
   "metadata": {},
   "outputs": [],
   "source": [
    "veg = mg.add_ones(\"percent_vegetation\", at=\"cell\")"
   ]
  },
  {
   "cell_type": "markdown",
   "metadata": {},
   "source": [
    "Note that the vegetation is set up at the 'cell' level, while the elevation is set at the 'node' level. Nodes are the cell centres (meaning there is a well-defined way to calculate gradients between values at nodes of neighbouring cells), while 'cell' data lives uniformly across the entire volume of the cell. On a grid, there are fewer cells than nodes: the boundary rows do not count as cells.\n",
    "\n",
    "For us, this probably means we want our Landlab grid to be two nodes larger in $x$ and $y$ than our NetLogo grid: This means they have the same number of cells, but the Landlab grid also has an additional rim of nodes around the outside that we can set boundary conditions on."
   ]
  },
  {
   "cell_type": "markdown",
   "metadata": {},
   "source": [
    "I now want to start trying to reproduce some of what Zhou et al. (2013) did - this means trying to match the Landlab components they added to the description in the paper and accompanying Jupyter notebook.\n",
    "\n",
    "First, we import the required modules:\n",
    " - Vegetation: Model plant dynamics using multiple representative plant species. Landlab component that simulates net primary productivity, biomass and leaf area index at each cell based on inputs of root-zone average soil moisture. https://landlab.readthedocs.io/en/latest/reference/components/vegetation_dynamics.html\n",
    " - SoilMoisture: Compute the decay of soil moisture saturation at storm-interstorm time period. Landlab component that simulates root-zone average soil moisture at each cell using inputs of potential evapotranspiration, live leaf area index, and vegetation cover. https://landlab.readthedocs.io/en/latest/reference/components/soil_moisture.html\n",
    " - Radiation: Calculate solar radiation on topography given latitude, date, and time. Landlab component that computes 1D and 2D total incident shortwave radiation. This code also computes relative incidence shortwave radiation compared to a flat surface. https://landlab.readthedocs.io/en/latest/reference/components/radiation.html\n",
    " - PotentialEvapotranspiration: Compute potential evapotranspiration. Component calculates spatially distributed potential evapotranspiration based on input radiation factor (spatial distribution of incoming radiation) using chosen method such as constant or Priestley Taylor. https://landlab.readthedocs.io/en/latest/reference/components/pet.html#landlab.components.pet.potential_evapotranspiration_field.PotentialEvapotranspiration\n",
    " - PrecipitationDistribution: Generate random sequence of precipitation events. This component can generate a random storm duration, interstorm duration, precipitation intensity or storm depth from a Poisson distribution when given a mean value. https://landlab.readthedocs.io/en/latest/reference/components/uniform_precip.html . I don't know if we want to use this component for our model - it seems most suited to climates where precipitation occurs mostly in intense storms that are few and far between - i.e., dry savanna. This is likely not the case for the area we are trying to model, where I expect we have rainfall quite frequently outside the Canicula dry period.\n",
    " "
   ]
  },
  {
   "cell_type": "code",
   "execution_count": 18,
   "metadata": {},
   "outputs": [],
   "source": [
    "from landlab.components import Vegetation\n",
    "from landlab.components import SoilMoisture\n",
    "from landlab.components import Radiation\n",
    "from landlab.components import PotentialEvapotranspiration\n",
    "from landlab.components import PrecipitationDistribution"
   ]
  },
  {
   "cell_type": "markdown",
   "metadata": {},
   "source": [
    "Our mission statement: Receive land cover input, give soil moisture/biomass growth output\n",
    "\n",
    "For our initial toy model, let's use what's already there and make use of the PrecipitationDistribution component to generate our rainfall time series, and make our time step based on that.\n",
    "\n",
    "First, we make a configuration file to specify a few key variables."
   ]
  },
  {
   "cell_type": "code",
   "execution_count": 21,
   "metadata": {},
   "outputs": [],
   "source": [
    "config = {\n",
    "    'canicula_start':182,\n",
    "    'canicula_end':223, #assume Canicula starts on 1st of July and lasts for 40 days\n",
    "    'mean_interstorm_wet':5,\n",
    "    'mean_storm_wet':2,\n",
    "    'mean_interstorm_dry':20,\n",
    "    'mean_storm_dry':2\n",
    "}"
   ]
  },
  {
   "cell_type": "code",
   "execution_count": 20,
   "metadata": {},
   "outputs": [],
   "source": [
    "# # Represent current time in years\n",
    "current_time = 0  # Start from first day of Jan\n",
    "\n",
    "# declaring few variables that will be used in the storm loop\n",
    "time_check = 0.0  # Buffer to store current_time at previous storm\n",
    "yrs = 0  # Keep track of number of years passed\n",
    "WS = 0.0  # Buffer for Water Stress\n",
    "Tg = 270  # Growing season in days\n"
   ]
  },
  {
   "cell_type": "markdown",
   "metadata": {},
   "source": [
    "Calculate number of time steps based on rainfall likelihood and duration as well as desired length of simulation in years"
   ]
  },
  {
   "cell_type": "code",
   "execution_count": 23,
   "metadata": {},
   "outputs": [
    {
     "data": {
      "text/plain": [
       "23.25"
      ]
     },
     "execution_count": 23,
     "metadata": {},
     "output_type": "execute_result"
    }
   ],
   "source": [
    "31*270/360"
   ]
  },
  {
   "cell_type": "code",
   "execution_count": null,
   "metadata": {},
   "outputs": [],
   "source": [
    "n_years = 50  # Approx number of years for model to run\n",
    "# Calculate approximate number of storms per year\n",
    "fraction_dry = (223 - 182) / 365.0 #assume Canicula starts on 1st of July and lasts for 40 days\n",
    "fraction_wet = 1 - fraction_dry\n",
    "no_of_storms_wet = (\n",
    "    8760 * (fraction_wet) / (config[\"mean_interstorm_wet\"] + config[\"mean_storm_wet\"])\n",
    ")\n",
    "no_of_storms_dry = (\n",
    "    8760 * (fraction_dry) / (config[\"mean_interstorm_dry\"] + config[\"mean_storm_dry\"])\n",
    ")\n",
    "n = int(n_years * (no_of_storms_wet + no_of_storms_dry))"
   ]
  },
  {
   "cell_type": "code",
   "execution_count": null,
   "metadata": {},
   "outputs": [],
   "source": [
    "#initialise timeseries \n",
    "\n",
    "PD_D = np.zeros(40) #empty array for dry season (Canicula) rainfall\n",
    "PD_W = np.zeros(325) #empty array for wet season rainfall\n",
    "P = \n"
   ]
  },
  {
   "cell_type": "code",
   "execution_count": null,
   "metadata": {},
   "outputs": [],
   "source": [
    "# # Run storm Loop\n",
    "for i in range(0, n):\n",
    "    # Update objects\n",
    "\n",
    "    # Calculate Day of Year (DOY)\n",
    "    Julian = int(np.floor((current_time - np.floor(current_time)) * 365.0))\n",
    "\n",
    "    # Generate seasonal storms\n",
    "    # for Dry season\n",
    "    if Julian < 223 or Julian > 182: #assume Canicula starts on 1st of July and lasts for 40 days\n",
    "        PD_D.update()\n",
    "        P[i] = PD_D.storm_depth\n",
    "        Tr[i] = PD_D.storm_duration\n",
    "        Tb[i] = PD_D.interstorm_duration\n",
    "    # Wet Season \n",
    "    else:\n",
    "        PD_W.update()\n",
    "        P[i] = PD_W.storm_depth\n",
    "        Tr[i] = PD_W.storm_duration\n",
    "        Tb[i] = PD_W.interstorm_duration\n",
    "\n",
    "    # Spatially distribute PET and its 30-day-mean (analogous to degree day)\n",
    "    grid[\"cell\"][\"surface__potential_evapotranspiration_rate\"] = PET_[Julian]\n",
    "    grid[\"cell\"][\"surface__potential_evapotranspiration_30day_mean\"] = EP30[Julian]\n",
    "\n",
    "    # Assign spatial rainfall data\n",
    "    grid[\"cell\"][\"rainfall__daily_depth\"] = P[i] * np.ones(grid.number_of_cells)\n",
    "\n",
    "    # Update soil moisture component\n",
    "    current_time = SM.update(current_time, Tr=Tr[i], Tb=Tb[i])\n",
    "\n",
    "    # Decide whether its growing season or not\n",
    "    if Julian != 364:\n",
    "        if EP30[Julian + 1, 0] > EP30[Julian, 0]:\n",
    "            PET_threshold = 1\n",
    "            # 1 corresponds to ETThresholdup (begin growing season)\n",
    "        else:\n",
    "            PET_threshold = 0\n",
    "            # 0 corresponds to ETThresholddown (end growing season)\n",
    "\n",
    "    # Update vegetation component\n",
    "    VEG.update(PETThreshold_switch=PET_threshold, Tb=Tb[i], Tr=Tr[i])\n",
    "\n",
    "    # Update yearly cumulative water stress data\n",
    "    WS += (grid[\"cell\"][\"vegetation__water_stress\"]) * Tb[i] / 24.0\n",
    "\n",
    "    # Record time (optional)\n",
    "    Time[i] = current_time\n",
    "\n",
    "    # Update spatial PFTs with Cellular Automata rules\n",
    "    if (current_time - time_check) >= 1.0:\n",
    "        if yrs % 100 == 0:\n",
    "            print(f\"Elapsed time = {yrs} years\")\n",
    "        VegType[yrs] = grid1[\"cell\"][\"vegetation__plant_functional_type\"]\n",
    "        WS_ = np.choose(VegType[yrs], WS)\n",
    "        grid1[\"cell\"][\"vegetation__cumulative_water_stress\"] = WS_ / Tg\n",
    "        vegca.update()\n",
    "        time_check = current_time\n",
    "        WS = 0\n",
    "        yrs += 1\n",
    "\n",
    "VegType[yrs] = grid1[\"cell\"][\"vegetation__plant_functional_type\"]"
   ]
  }
 ],
 "metadata": {
  "kernelspec": {
   "display_name": "py311",
   "language": "python",
   "name": "python3"
  },
  "language_info": {
   "codemirror_mode": {
    "name": "ipython",
    "version": 3
   },
   "file_extension": ".py",
   "mimetype": "text/x-python",
   "name": "python",
   "nbconvert_exporter": "python",
   "pygments_lexer": "ipython3",
   "version": "3.11.5"
  }
 },
 "nbformat": 4,
 "nbformat_minor": 2
}
