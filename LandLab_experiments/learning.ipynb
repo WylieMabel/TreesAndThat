{
 "cells": [
  {
   "cell_type": "markdown",
   "metadata": {},
   "source": [
    "# LandLab Learning\n",
    "\n",
    "This notebook is for investigating and getting used to the LandLab Python package for hydrology modelling.\n",
    "\n",
    "I will broadly follow the guide on https://landlab.readthedocs.io/en/latest/user_guide"
   ]
  },
  {
   "cell_type": "code",
   "execution_count": 1,
   "metadata": {},
   "outputs": [],
   "source": [
    "import numpy as np\n",
    "import landlab as ldlb\n",
    "import matplotlib.pyplot as plt"
   ]
  },
  {
   "cell_type": "markdown",
   "metadata": {},
   "source": [
    "## Set up a model grid\n",
    "\n",
    "... and add an idealised quadratic elevation profile to it, mimicking a valley."
   ]
  },
  {
   "cell_type": "code",
   "execution_count": 2,
   "metadata": {},
   "outputs": [],
   "source": [
    "from landlab import RasterModelGrid"
   ]
  },
  {
   "cell_type": "code",
   "execution_count": 5,
   "metadata": {},
   "outputs": [
    {
     "data": {
      "text/plain": [
       "array([ 400.,  361.,  324., ...,  328.,  363.,  400.])"
      ]
     },
     "execution_count": 5,
     "metadata": {},
     "output_type": "execute_result"
    }
   ],
   "source": [
    "#set up 40x40 grid\n",
    "mg = RasterModelGrid((40, 40), 5.)\n",
    "\n",
    "#let's try to add an idealised elevation profile to this grid.\n",
    "valley = np.zeros((40,40))\n",
    "\n",
    "def valleyfunc(x, y):\n",
    "    e = (x-20)**2 + y\n",
    "    return e\n",
    "\n",
    "for x in np.arange(0, 40, 1):\n",
    "    for y in np.arange(0, 40, 1):\n",
    "        valley[y][x] = valleyfunc(x,y)\n",
    "\n",
    "mg.add_field(\"elevation\", valley, at=\"node\", units=\"m\", copy=True, clobber=True)"
   ]
  },
  {
   "cell_type": "code",
   "execution_count": 7,
   "metadata": {},
   "outputs": [
    {
     "ename": "ImportError",
     "evalue": "cannot import name 'imshow_node_grid' from 'landlab.plot.imshow' (/Users/benjaminbuchenau/opt/anaconda3/envs/py311/lib/python3.11/site-packages/landlab/plot/imshow.py)",
     "output_type": "error",
     "traceback": [
      "\u001b[0;31m---------------------------------------------------------------------------\u001b[0m",
      "\u001b[0;31mImportError\u001b[0m                               Traceback (most recent call last)",
      "\u001b[1;32m/Users/benjaminbuchenau/Documents/GitHub/TreesAndThat/LandLab_experiments/learning.ipynb Cell 6\u001b[0m line \u001b[0;36m1\n\u001b[0;32m----> <a href='vscode-notebook-cell:/Users/benjaminbuchenau/Documents/GitHub/TreesAndThat/LandLab_experiments/learning.ipynb#W6sZmlsZQ%3D%3D?line=0'>1</a>\u001b[0m \u001b[39mfrom\u001b[39;00m \u001b[39mlandlab\u001b[39;00m\u001b[39m.\u001b[39;00m\u001b[39mplot\u001b[39;00m\u001b[39m.\u001b[39;00m\u001b[39mimshow\u001b[39;00m \u001b[39mimport\u001b[39;00m imshow_node_grid\n\u001b[1;32m      <a href='vscode-notebook-cell:/Users/benjaminbuchenau/Documents/GitHub/TreesAndThat/LandLab_experiments/learning.ipynb#W6sZmlsZQ%3D%3D?line=1'>2</a>\u001b[0m \u001b[39m#\u001b[39;00m\n\u001b[1;32m      <a href='vscode-notebook-cell:/Users/benjaminbuchenau/Documents/GitHub/TreesAndThat/LandLab_experiments/learning.ipynb#W6sZmlsZQ%3D%3D?line=2'>3</a>\u001b[0m plt\u001b[39m.\u001b[39mfigure(\u001b[39m'\u001b[39m\u001b[39mElevations from the field\u001b[39m\u001b[39m'\u001b[39m)  \u001b[39m# new fig, with a name\u001b[39;00m\n",
      "\u001b[0;31mImportError\u001b[0m: cannot import name 'imshow_node_grid' from 'landlab.plot.imshow' (/Users/benjaminbuchenau/opt/anaconda3/envs/py311/lib/python3.11/site-packages/landlab/plot/imshow.py)"
     ]
    }
   ],
   "source": [
    "from landlab.plot.imshow import imshow_node_grid\n",
    "\n",
    "plt.figure('Elevations from the field')  # new fig, with a name\n",
    "imshow_node_grid(mg, 'elevation')\n",
    "plt.show()"
   ]
  },
  {
   "cell_type": "code",
   "execution_count": null,
   "metadata": {},
   "outputs": [],
   "source": []
  }
 ],
 "metadata": {
  "kernelspec": {
   "display_name": "py311",
   "language": "python",
   "name": "python3"
  },
  "language_info": {
   "codemirror_mode": {
    "name": "ipython",
    "version": 3
   },
   "file_extension": ".py",
   "mimetype": "text/x-python",
   "name": "python",
   "nbconvert_exporter": "python",
   "pygments_lexer": "ipython3",
   "version": "3.11.5"
  }
 },
 "nbformat": 4,
 "nbformat_minor": 2
}
